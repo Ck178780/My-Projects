{
 "cells": [
  {
   "cell_type": "markdown",
   "id": "df49c5b9-0315-4111-8b54-50b06d6a1b21",
   "metadata": {
    "jp-MarkdownHeadingCollapsed": true,
    "tags": []
   },
   "source": [
    "# Loan Eligibility Notebook\n",
    "\n",
    "This notebook looks into using various Python-based machine learning and data science libraries in an attempt to build a machine learning model capable of predicting whether loans would be approved or not.\n",
    "\n",
    "\n",
    "## I. Problem Statement\n",
    "\n",
    "Dream Housing Finance company deals in all kinds of home loans. They have presence across all urban, semi urban and rural areas. Customer first applies for home loan and after that company validates the customer eligibility for loan.\n",
    "Company wants to automate the loan eligibility process (real time) based on customer detail provided while filling online application form. These details are Gender, Marital Status, Education, Number of Dependents, Income, Loan Amount, Credit History and others. To automate this process, they have provided a dataset to identify the customers segments that are eligible for loan amount so that they can specifically target these customers. \n",
    "\n",
    "## II. Data\n",
    "\n",
    "The dataset can be viewed or dwonloaded on Kaggle: -> https://www.kaggle.com/datasets/devzohaib/eligibility-prediction-for-loan/data\n",
    "\n",
    "## III. Features\n",
    "\n",
    "Data Dictionary:\n",
    "* `Loan_ID` \tUnique Loan ID\n",
    "* `Gender` \tMale/ Female\n",
    "* `Married` \tApplicant married (Y/N)\n",
    "* `Dependents` \tNumber of dependents\n",
    "* `Education` \tApplicant Education (Graduate/ Under Graduate)\n",
    "* `Self_Employed` \tSelf employed (Y/N)\n",
    "* `ApplicantIncome` \tApplicant income\n",
    "* `CoapplicantIncome` \tCoapplicant income\n",
    "* `LoanAmount` \tLoan amount in thousands\n",
    "* `Loan_Amount_Term` \tTerm of loan in months\n",
    "* `Credit_History` \tcredit history meets guidelines\n",
    "* `Property_Area` \tUrban/ Semi Urban/ Rural\n",
    "* `Loan_Status` \t(Target) Loan approved (Y/N)\n",
    "\n",
    "## IV. Evaluation\n",
    "\n",
    "* ROC Curve and AUC Score\n",
    "* Confusion Matrix\n",
    "* Classification Report\n",
    "* Precision\n",
    "* Recall\n",
    "* F1 Score"
   ]
  },
  {
   "cell_type": "markdown",
   "id": "31a245d2-a867-4495-abc2-ce7f1c39cd71",
   "metadata": {
    "jp-MarkdownHeadingCollapsed": true,
    "tags": []
   },
   "source": [
    "# Imports"
   ]
  },
  {
   "cell_type": "code",
   "execution_count": 94,
   "id": "9c067710-12fe-4254-abaf-f98416ca5aa8",
   "metadata": {
    "tags": []
   },
   "outputs": [],
   "source": [
    "%matplotlib inline \n",
    "\n",
    "import warnings as warn\n",
    "warn.filterwarnings('ignore')\n",
    "from pprint import pprint\n",
    "import pandas as pd\n",
    "import numpy as np\n",
    "import seaborn as sns\n",
    "import matplotlib.pyplot as plt\n",
    "\n",
    "# import models\n",
    "from sklearn.svm import LinearSVC\n",
    "from sklearn.linear_model import LogisticRegression\n",
    "from sklearn.neighbors import KNeighborsClassifier\n",
    "from sklearn.ensemble import RandomForestClassifier\n",
    "from sklearn.model_selection import train_test_split, cross_val_score\n",
    "from sklearn.model_selection import RandomizedSearchCV, GridSearchCV\n",
    "from sklearn.metrics import confusion_matrix, classification_report\n",
    "from sklearn.metrics import precision_score, recall_score, f1_score\n",
    "from sklearn.metrics import RocCurveDisplay\n",
    "from sklearn.metrics import accuracy_score\n"
   ]
  },
  {
   "cell_type": "code",
   "execution_count": 2,
   "id": "16dc94d7-915e-45d1-814b-f37d160f6b78",
   "metadata": {
    "tags": []
   },
   "outputs": [],
   "source": [
    "SEABORN_STYLE = 'whitegrid'\n",
    "plt.style.use('ggplot')"
   ]
  },
  {
   "cell_type": "markdown",
   "id": "51e8af89-e53e-42fd-822b-63c1482c36a5",
   "metadata": {
    "jp-MarkdownHeadingCollapsed": true,
    "tags": []
   },
   "source": [
    "# Getting the data ready:"
   ]
  },
  {
   "cell_type": "code",
   "execution_count": 3,
   "id": "440d6f5c-b30a-4dc6-9509-9c6c65dea3da",
   "metadata": {
    "tags": []
   },
   "outputs": [],
   "source": [
    "df = pd.read_csv(\"Loan_Data.csv\")"
   ]
  },
  {
   "cell_type": "code",
   "execution_count": 4,
   "id": "221b50d9-f61d-4375-b4e0-8b1f133632c6",
   "metadata": {
    "tags": []
   },
   "outputs": [],
   "source": [
    "# Define constants:\n",
    "\n",
    "SEABORN_STYLE = 'whitegrid'"
   ]
  },
  {
   "cell_type": "code",
   "execution_count": 5,
   "id": "6f3064f8-3b93-42e7-b6bf-3633b0c3310a",
   "metadata": {
    "tags": []
   },
   "outputs": [
    {
     "data": {
      "text/html": [
       "<div>\n",
       "<style scoped>\n",
       "    .dataframe tbody tr th:only-of-type {\n",
       "        vertical-align: middle;\n",
       "    }\n",
       "\n",
       "    .dataframe tbody tr th {\n",
       "        vertical-align: top;\n",
       "    }\n",
       "\n",
       "    .dataframe thead th {\n",
       "        text-align: right;\n",
       "    }\n",
       "</style>\n",
       "<table border=\"1\" class=\"dataframe\">\n",
       "  <thead>\n",
       "    <tr style=\"text-align: right;\">\n",
       "      <th></th>\n",
       "      <th>0</th>\n",
       "      <th>1</th>\n",
       "      <th>2</th>\n",
       "      <th>3</th>\n",
       "      <th>4</th>\n",
       "    </tr>\n",
       "  </thead>\n",
       "  <tbody>\n",
       "    <tr>\n",
       "      <th>Loan_ID</th>\n",
       "      <td>LP001002</td>\n",
       "      <td>LP001003</td>\n",
       "      <td>LP001005</td>\n",
       "      <td>LP001006</td>\n",
       "      <td>LP001008</td>\n",
       "    </tr>\n",
       "    <tr>\n",
       "      <th>Gender</th>\n",
       "      <td>Male</td>\n",
       "      <td>Male</td>\n",
       "      <td>Male</td>\n",
       "      <td>Male</td>\n",
       "      <td>Male</td>\n",
       "    </tr>\n",
       "    <tr>\n",
       "      <th>Married</th>\n",
       "      <td>No</td>\n",
       "      <td>Yes</td>\n",
       "      <td>Yes</td>\n",
       "      <td>Yes</td>\n",
       "      <td>No</td>\n",
       "    </tr>\n",
       "    <tr>\n",
       "      <th>Dependents</th>\n",
       "      <td>0</td>\n",
       "      <td>1</td>\n",
       "      <td>0</td>\n",
       "      <td>0</td>\n",
       "      <td>0</td>\n",
       "    </tr>\n",
       "    <tr>\n",
       "      <th>Education</th>\n",
       "      <td>Graduate</td>\n",
       "      <td>Graduate</td>\n",
       "      <td>Graduate</td>\n",
       "      <td>Not Graduate</td>\n",
       "      <td>Graduate</td>\n",
       "    </tr>\n",
       "    <tr>\n",
       "      <th>Self_Employed</th>\n",
       "      <td>No</td>\n",
       "      <td>No</td>\n",
       "      <td>Yes</td>\n",
       "      <td>No</td>\n",
       "      <td>No</td>\n",
       "    </tr>\n",
       "    <tr>\n",
       "      <th>ApplicantIncome</th>\n",
       "      <td>5849</td>\n",
       "      <td>4583</td>\n",
       "      <td>3000</td>\n",
       "      <td>2583</td>\n",
       "      <td>6000</td>\n",
       "    </tr>\n",
       "    <tr>\n",
       "      <th>CoapplicantIncome</th>\n",
       "      <td>0.0</td>\n",
       "      <td>1508.0</td>\n",
       "      <td>0.0</td>\n",
       "      <td>2358.0</td>\n",
       "      <td>0.0</td>\n",
       "    </tr>\n",
       "    <tr>\n",
       "      <th>LoanAmount</th>\n",
       "      <td>NaN</td>\n",
       "      <td>128.0</td>\n",
       "      <td>66.0</td>\n",
       "      <td>120.0</td>\n",
       "      <td>141.0</td>\n",
       "    </tr>\n",
       "    <tr>\n",
       "      <th>Loan_Amount_Term</th>\n",
       "      <td>360.0</td>\n",
       "      <td>360.0</td>\n",
       "      <td>360.0</td>\n",
       "      <td>360.0</td>\n",
       "      <td>360.0</td>\n",
       "    </tr>\n",
       "    <tr>\n",
       "      <th>Credit_History</th>\n",
       "      <td>1.0</td>\n",
       "      <td>1.0</td>\n",
       "      <td>1.0</td>\n",
       "      <td>1.0</td>\n",
       "      <td>1.0</td>\n",
       "    </tr>\n",
       "    <tr>\n",
       "      <th>Property_Area</th>\n",
       "      <td>Urban</td>\n",
       "      <td>Rural</td>\n",
       "      <td>Urban</td>\n",
       "      <td>Urban</td>\n",
       "      <td>Urban</td>\n",
       "    </tr>\n",
       "    <tr>\n",
       "      <th>Loan_Status</th>\n",
       "      <td>Y</td>\n",
       "      <td>N</td>\n",
       "      <td>Y</td>\n",
       "      <td>Y</td>\n",
       "      <td>Y</td>\n",
       "    </tr>\n",
       "  </tbody>\n",
       "</table>\n",
       "</div>"
      ],
      "text/plain": [
       "                          0         1         2             3         4\n",
       "Loan_ID            LP001002  LP001003  LP001005      LP001006  LP001008\n",
       "Gender                 Male      Male      Male          Male      Male\n",
       "Married                  No       Yes       Yes           Yes        No\n",
       "Dependents                0         1         0             0         0\n",
       "Education          Graduate  Graduate  Graduate  Not Graduate  Graduate\n",
       "Self_Employed            No        No       Yes            No        No\n",
       "ApplicantIncome        5849      4583      3000          2583      6000\n",
       "CoapplicantIncome       0.0    1508.0       0.0        2358.0       0.0\n",
       "LoanAmount              NaN     128.0      66.0         120.0     141.0\n",
       "Loan_Amount_Term      360.0     360.0     360.0         360.0     360.0\n",
       "Credit_History          1.0       1.0       1.0           1.0       1.0\n",
       "Property_Area         Urban     Rural     Urban         Urban     Urban\n",
       "Loan_Status               Y         N         Y             Y         Y"
      ]
     },
     "execution_count": 5,
     "metadata": {},
     "output_type": "execute_result"
    }
   ],
   "source": [
    "df.head().T"
   ]
  },
  {
   "cell_type": "code",
   "execution_count": 6,
   "id": "169db4e7-76f7-499c-a758-3008bdd5e34f",
   "metadata": {
    "tags": []
   },
   "outputs": [
    {
     "data": {
      "text/html": [
       "<div>\n",
       "<style scoped>\n",
       "    .dataframe tbody tr th:only-of-type {\n",
       "        vertical-align: middle;\n",
       "    }\n",
       "\n",
       "    .dataframe tbody tr th {\n",
       "        vertical-align: top;\n",
       "    }\n",
       "\n",
       "    .dataframe thead th {\n",
       "        text-align: right;\n",
       "    }\n",
       "</style>\n",
       "<table border=\"1\" class=\"dataframe\">\n",
       "  <thead>\n",
       "    <tr style=\"text-align: right;\">\n",
       "      <th></th>\n",
       "      <th>609</th>\n",
       "      <th>610</th>\n",
       "      <th>611</th>\n",
       "      <th>612</th>\n",
       "      <th>613</th>\n",
       "    </tr>\n",
       "  </thead>\n",
       "  <tbody>\n",
       "    <tr>\n",
       "      <th>Loan_ID</th>\n",
       "      <td>LP002978</td>\n",
       "      <td>LP002979</td>\n",
       "      <td>LP002983</td>\n",
       "      <td>LP002984</td>\n",
       "      <td>LP002990</td>\n",
       "    </tr>\n",
       "    <tr>\n",
       "      <th>Gender</th>\n",
       "      <td>Female</td>\n",
       "      <td>Male</td>\n",
       "      <td>Male</td>\n",
       "      <td>Male</td>\n",
       "      <td>Female</td>\n",
       "    </tr>\n",
       "    <tr>\n",
       "      <th>Married</th>\n",
       "      <td>No</td>\n",
       "      <td>Yes</td>\n",
       "      <td>Yes</td>\n",
       "      <td>Yes</td>\n",
       "      <td>No</td>\n",
       "    </tr>\n",
       "    <tr>\n",
       "      <th>Dependents</th>\n",
       "      <td>0</td>\n",
       "      <td>3+</td>\n",
       "      <td>1</td>\n",
       "      <td>2</td>\n",
       "      <td>0</td>\n",
       "    </tr>\n",
       "    <tr>\n",
       "      <th>Education</th>\n",
       "      <td>Graduate</td>\n",
       "      <td>Graduate</td>\n",
       "      <td>Graduate</td>\n",
       "      <td>Graduate</td>\n",
       "      <td>Graduate</td>\n",
       "    </tr>\n",
       "    <tr>\n",
       "      <th>Self_Employed</th>\n",
       "      <td>No</td>\n",
       "      <td>No</td>\n",
       "      <td>No</td>\n",
       "      <td>No</td>\n",
       "      <td>Yes</td>\n",
       "    </tr>\n",
       "    <tr>\n",
       "      <th>ApplicantIncome</th>\n",
       "      <td>2900</td>\n",
       "      <td>4106</td>\n",
       "      <td>8072</td>\n",
       "      <td>7583</td>\n",
       "      <td>4583</td>\n",
       "    </tr>\n",
       "    <tr>\n",
       "      <th>CoapplicantIncome</th>\n",
       "      <td>0.0</td>\n",
       "      <td>0.0</td>\n",
       "      <td>240.0</td>\n",
       "      <td>0.0</td>\n",
       "      <td>0.0</td>\n",
       "    </tr>\n",
       "    <tr>\n",
       "      <th>LoanAmount</th>\n",
       "      <td>71.0</td>\n",
       "      <td>40.0</td>\n",
       "      <td>253.0</td>\n",
       "      <td>187.0</td>\n",
       "      <td>133.0</td>\n",
       "    </tr>\n",
       "    <tr>\n",
       "      <th>Loan_Amount_Term</th>\n",
       "      <td>360.0</td>\n",
       "      <td>180.0</td>\n",
       "      <td>360.0</td>\n",
       "      <td>360.0</td>\n",
       "      <td>360.0</td>\n",
       "    </tr>\n",
       "    <tr>\n",
       "      <th>Credit_History</th>\n",
       "      <td>1.0</td>\n",
       "      <td>1.0</td>\n",
       "      <td>1.0</td>\n",
       "      <td>1.0</td>\n",
       "      <td>0.0</td>\n",
       "    </tr>\n",
       "    <tr>\n",
       "      <th>Property_Area</th>\n",
       "      <td>Rural</td>\n",
       "      <td>Rural</td>\n",
       "      <td>Urban</td>\n",
       "      <td>Urban</td>\n",
       "      <td>Semiurban</td>\n",
       "    </tr>\n",
       "    <tr>\n",
       "      <th>Loan_Status</th>\n",
       "      <td>Y</td>\n",
       "      <td>Y</td>\n",
       "      <td>Y</td>\n",
       "      <td>Y</td>\n",
       "      <td>N</td>\n",
       "    </tr>\n",
       "  </tbody>\n",
       "</table>\n",
       "</div>"
      ],
      "text/plain": [
       "                        609       610       611       612        613\n",
       "Loan_ID            LP002978  LP002979  LP002983  LP002984   LP002990\n",
       "Gender               Female      Male      Male      Male     Female\n",
       "Married                  No       Yes       Yes       Yes         No\n",
       "Dependents                0        3+         1         2          0\n",
       "Education          Graduate  Graduate  Graduate  Graduate   Graduate\n",
       "Self_Employed            No        No        No        No        Yes\n",
       "ApplicantIncome        2900      4106      8072      7583       4583\n",
       "CoapplicantIncome       0.0       0.0     240.0       0.0        0.0\n",
       "LoanAmount             71.0      40.0     253.0     187.0      133.0\n",
       "Loan_Amount_Term      360.0     180.0     360.0     360.0      360.0\n",
       "Credit_History          1.0       1.0       1.0       1.0        0.0\n",
       "Property_Area         Rural     Rural     Urban     Urban  Semiurban\n",
       "Loan_Status               Y         Y         Y         Y          N"
      ]
     },
     "execution_count": 6,
     "metadata": {},
     "output_type": "execute_result"
    }
   ],
   "source": [
    "df.tail().T"
   ]
  },
  {
   "cell_type": "markdown",
   "id": "3ccb40f3-8f9d-47fa-a739-8614b74d4222",
   "metadata": {
    "jp-MarkdownHeadingCollapsed": true,
    "tags": []
   },
   "source": [
    "# Part I. Data Analysis"
   ]
  },
  {
   "cell_type": "code",
   "execution_count": 7,
   "id": "2eae0a17-214f-4d70-91db-bb203d6c63f9",
   "metadata": {
    "tags": []
   },
   "outputs": [
    {
     "name": "stdout",
     "output_type": "stream",
     "text": [
      "<class 'pandas.core.frame.DataFrame'>\n",
      "RangeIndex: 614 entries, 0 to 613\n",
      "Data columns (total 13 columns):\n",
      " #   Column             Non-Null Count  Dtype  \n",
      "---  ------             --------------  -----  \n",
      " 0   Loan_ID            614 non-null    object \n",
      " 1   Gender             601 non-null    object \n",
      " 2   Married            611 non-null    object \n",
      " 3   Dependents         599 non-null    object \n",
      " 4   Education          614 non-null    object \n",
      " 5   Self_Employed      582 non-null    object \n",
      " 6   ApplicantIncome    614 non-null    int64  \n",
      " 7   CoapplicantIncome  614 non-null    float64\n",
      " 8   LoanAmount         592 non-null    float64\n",
      " 9   Loan_Amount_Term   600 non-null    float64\n",
      " 10  Credit_History     564 non-null    float64\n",
      " 11  Property_Area      614 non-null    object \n",
      " 12  Loan_Status        614 non-null    object \n",
      "dtypes: float64(4), int64(1), object(8)\n",
      "memory usage: 62.5+ KB\n"
     ]
    }
   ],
   "source": [
    "df.info()"
   ]
  },
  {
   "cell_type": "code",
   "execution_count": 8,
   "id": "1e2f6145-c67b-4318-bd40-b512c4e44142",
   "metadata": {
    "tags": []
   },
   "outputs": [
    {
     "data": {
      "text/html": [
       "<div>\n",
       "<style scoped>\n",
       "    .dataframe tbody tr th:only-of-type {\n",
       "        vertical-align: middle;\n",
       "    }\n",
       "\n",
       "    .dataframe tbody tr th {\n",
       "        vertical-align: top;\n",
       "    }\n",
       "\n",
       "    .dataframe thead th {\n",
       "        text-align: right;\n",
       "    }\n",
       "</style>\n",
       "<table border=\"1\" class=\"dataframe\">\n",
       "  <thead>\n",
       "    <tr style=\"text-align: right;\">\n",
       "      <th></th>\n",
       "      <th>ApplicantIncome</th>\n",
       "      <th>CoapplicantIncome</th>\n",
       "      <th>LoanAmount</th>\n",
       "      <th>Loan_Amount_Term</th>\n",
       "      <th>Credit_History</th>\n",
       "    </tr>\n",
       "  </thead>\n",
       "  <tbody>\n",
       "    <tr>\n",
       "      <th>count</th>\n",
       "      <td>614.000000</td>\n",
       "      <td>614.000000</td>\n",
       "      <td>592.000000</td>\n",
       "      <td>600.00000</td>\n",
       "      <td>564.000000</td>\n",
       "    </tr>\n",
       "    <tr>\n",
       "      <th>mean</th>\n",
       "      <td>5403.459283</td>\n",
       "      <td>1621.245798</td>\n",
       "      <td>146.412162</td>\n",
       "      <td>342.00000</td>\n",
       "      <td>0.842199</td>\n",
       "    </tr>\n",
       "    <tr>\n",
       "      <th>std</th>\n",
       "      <td>6109.041673</td>\n",
       "      <td>2926.248369</td>\n",
       "      <td>85.587325</td>\n",
       "      <td>65.12041</td>\n",
       "      <td>0.364878</td>\n",
       "    </tr>\n",
       "    <tr>\n",
       "      <th>min</th>\n",
       "      <td>150.000000</td>\n",
       "      <td>0.000000</td>\n",
       "      <td>9.000000</td>\n",
       "      <td>12.00000</td>\n",
       "      <td>0.000000</td>\n",
       "    </tr>\n",
       "    <tr>\n",
       "      <th>25%</th>\n",
       "      <td>2877.500000</td>\n",
       "      <td>0.000000</td>\n",
       "      <td>100.000000</td>\n",
       "      <td>360.00000</td>\n",
       "      <td>1.000000</td>\n",
       "    </tr>\n",
       "    <tr>\n",
       "      <th>50%</th>\n",
       "      <td>3812.500000</td>\n",
       "      <td>1188.500000</td>\n",
       "      <td>128.000000</td>\n",
       "      <td>360.00000</td>\n",
       "      <td>1.000000</td>\n",
       "    </tr>\n",
       "    <tr>\n",
       "      <th>75%</th>\n",
       "      <td>5795.000000</td>\n",
       "      <td>2297.250000</td>\n",
       "      <td>168.000000</td>\n",
       "      <td>360.00000</td>\n",
       "      <td>1.000000</td>\n",
       "    </tr>\n",
       "    <tr>\n",
       "      <th>max</th>\n",
       "      <td>81000.000000</td>\n",
       "      <td>41667.000000</td>\n",
       "      <td>700.000000</td>\n",
       "      <td>480.00000</td>\n",
       "      <td>1.000000</td>\n",
       "    </tr>\n",
       "  </tbody>\n",
       "</table>\n",
       "</div>"
      ],
      "text/plain": [
       "       ApplicantIncome  CoapplicantIncome  LoanAmount  Loan_Amount_Term  \\\n",
       "count       614.000000         614.000000  592.000000         600.00000   \n",
       "mean       5403.459283        1621.245798  146.412162         342.00000   \n",
       "std        6109.041673        2926.248369   85.587325          65.12041   \n",
       "min         150.000000           0.000000    9.000000          12.00000   \n",
       "25%        2877.500000           0.000000  100.000000         360.00000   \n",
       "50%        3812.500000        1188.500000  128.000000         360.00000   \n",
       "75%        5795.000000        2297.250000  168.000000         360.00000   \n",
       "max       81000.000000       41667.000000  700.000000         480.00000   \n",
       "\n",
       "       Credit_History  \n",
       "count      564.000000  \n",
       "mean         0.842199  \n",
       "std          0.364878  \n",
       "min          0.000000  \n",
       "25%          1.000000  \n",
       "50%          1.000000  \n",
       "75%          1.000000  \n",
       "max          1.000000  "
      ]
     },
     "execution_count": 8,
     "metadata": {},
     "output_type": "execute_result"
    }
   ],
   "source": [
    "df.describe()"
   ]
  },
  {
   "cell_type": "code",
   "execution_count": 9,
   "id": "5c34099c-1b56-4902-950d-14e0bdf5048e",
   "metadata": {
    "tags": []
   },
   "outputs": [
    {
     "data": {
      "text/plain": [
       "614"
      ]
     },
     "execution_count": 9,
     "metadata": {},
     "output_type": "execute_result"
    }
   ],
   "source": [
    "len(df)"
   ]
  },
  {
   "cell_type": "code",
   "execution_count": 10,
   "id": "a035f94f-a75a-4bb2-ba0a-dc2da3432913",
   "metadata": {
    "tags": []
   },
   "outputs": [
    {
     "data": {
      "text/plain": [
       "Loan_ID               0\n",
       "Gender               13\n",
       "Married               3\n",
       "Dependents           15\n",
       "Education             0\n",
       "Self_Employed        32\n",
       "ApplicantIncome       0\n",
       "CoapplicantIncome     0\n",
       "LoanAmount           22\n",
       "Loan_Amount_Term     14\n",
       "Credit_History       50\n",
       "Property_Area         0\n",
       "Loan_Status           0\n",
       "dtype: int64"
      ]
     },
     "execution_count": 10,
     "metadata": {},
     "output_type": "execute_result"
    }
   ],
   "source": [
    "df.isna().sum()"
   ]
  },
  {
   "cell_type": "code",
   "execution_count": 11,
   "id": "b1c1817f-ff4f-4c34-9682-b67af143f4c9",
   "metadata": {
    "tags": []
   },
   "outputs": [
    {
     "data": {
      "text/plain": [
       "(614, 12)"
      ]
     },
     "execution_count": 11,
     "metadata": {},
     "output_type": "execute_result"
    }
   ],
   "source": [
    "# Drop Loan ID, it's just a number given to identify each loan\n",
    "df.drop('Loan_ID', axis=1, inplace=True)\n",
    "\n",
    "df.shape"
   ]
  },
  {
   "cell_type": "code",
   "execution_count": 12,
   "id": "2e79f07a-4cce-4c5d-9e35-7285a95a964f",
   "metadata": {
    "tags": []
   },
   "outputs": [
    {
     "data": {
      "text/plain": [
       "0"
      ]
     },
     "execution_count": 12,
     "metadata": {},
     "output_type": "execute_result"
    }
   ],
   "source": [
    "df.duplicated().sum()"
   ]
  },
  {
   "cell_type": "code",
   "execution_count": 13,
   "id": "bd4d0530-9c98-4bc8-93be-2d624082584f",
   "metadata": {
    "tags": []
   },
   "outputs": [
    {
     "data": {
      "image/png": "[encoded data removed]",
      "text/plain": [
       "<Figure size 640x480 with 1 Axes>"
      ]
     },
     "metadata": {},
     "output_type": "display_data"
    }
   ],
   "source": [
    "# Explore the target column:\n",
    "df[\"Loan_Status\"].hist(bins=2, density=True)\n",
    "plt.ylabel(\"Frequency\")\n",
    "plt.xlabel(\"Loan Status\")\n",
    "plt.show()"
   ]
  },
  {
   "cell_type": "markdown",
   "id": "ab6b91a8-8e2a-4bfe-82e8-2602701d76a8",
   "metadata": {},
   "source": [
    "Observation:\n",
    "\n",
    "* The majority of people in the dataset do have home loans."
   ]
  },
  {
   "cell_type": "code",
   "execution_count": 14,
   "id": "d5335269-a1dd-4598-a6c3-82427ddb64d7",
   "metadata": {
    "tags": []
   },
   "outputs": [
    {
     "name": "stdout",
     "output_type": "stream",
     "text": [
      "Gender\n",
      "Male      489\n",
      "Female    112\n",
      "Name: count, dtype: int64\n",
      "\n",
      "\n"
     ]
    },
    {
     "data": {
      "image/png": "[encoded data removed]",
      "text/plain": [
       "<Figure size 600x600 with 1 Axes>"
      ]
     },
     "metadata": {},
     "output_type": "display_data"
    }
   ],
   "source": [
    "# How many males and females are in the dataset?\n",
    "gender_counts = df[\"Gender\"].value_counts()\n",
    "\n",
    "print(gender_counts)\n",
    "print(\"\\n\")\n",
    "\n",
    "plt.figure(figsize=(6, 6))\n",
    "plt.pie(gender_counts, labels=gender_counts.index, autopct='%1.1f%%', startangle=140)\n",
    "plt.title(\"Distribution of Gender\")\n",
    "\n",
    "plt.show()"
   ]
  },
  {
   "cell_type": "code",
   "execution_count": 15,
   "id": "47325acb-4282-485f-91fc-907dfaa3c1cb",
   "metadata": {
    "tags": []
   },
   "outputs": [
    {
     "name": "stdout",
     "output_type": "stream",
     "text": [
      "Observation: The majority of dataset gender is Male's who apply for home loans, at 81.36 %.\n"
     ]
    }
   ],
   "source": [
    "majority_gender = gender_counts.idxmax()\n",
    "percentage_majority_gender = (gender_counts[majority_gender] / gender_counts.sum()) * 100\n",
    "\n",
    "print(f\"Observation: The majority of dataset gender is {majority_gender}'s who apply for home loans, at {percentage_majority_gender:.2f} %.\")"
   ]
  },
  {
   "cell_type": "code",
   "execution_count": 16,
   "id": "a974f7a5-99a3-48af-b919-c2d8a515a5c5",
   "metadata": {
    "tags": []
   },
   "outputs": [
    {
     "data": {
      "text/html": [
       "<div>\n",
       "<style scoped>\n",
       "    .dataframe tbody tr th:only-of-type {\n",
       "        vertical-align: middle;\n",
       "    }\n",
       "\n",
       "    .dataframe tbody tr th {\n",
       "        vertical-align: top;\n",
       "    }\n",
       "\n",
       "    .dataframe thead th {\n",
       "        text-align: right;\n",
       "    }\n",
       "</style>\n",
       "<table border=\"1\" class=\"dataframe\">\n",
       "  <thead>\n",
       "    <tr style=\"text-align: right;\">\n",
       "      <th></th>\n",
       "      <th>Gender</th>\n",
       "      <th>Married</th>\n",
       "      <th>Dependents</th>\n",
       "      <th>Education</th>\n",
       "      <th>Self_Employed</th>\n",
       "      <th>ApplicantIncome</th>\n",
       "      <th>CoapplicantIncome</th>\n",
       "      <th>LoanAmount</th>\n",
       "      <th>Loan_Amount_Term</th>\n",
       "      <th>Credit_History</th>\n",
       "      <th>Property_Area</th>\n",
       "      <th>Loan_Status</th>\n",
       "    </tr>\n",
       "  </thead>\n",
       "  <tbody>\n",
       "    <tr>\n",
       "      <th>0</th>\n",
       "      <td>Male</td>\n",
       "      <td>No</td>\n",
       "      <td>0</td>\n",
       "      <td>Graduate</td>\n",
       "      <td>No</td>\n",
       "      <td>5849</td>\n",
       "      <td>0.0</td>\n",
       "      <td>NaN</td>\n",
       "      <td>360.0</td>\n",
       "      <td>1.0</td>\n",
       "      <td>Urban</td>\n",
       "      <td>Y</td>\n",
       "    </tr>\n",
       "    <tr>\n",
       "      <th>1</th>\n",
       "      <td>Male</td>\n",
       "      <td>Yes</td>\n",
       "      <td>1</td>\n",
       "      <td>Graduate</td>\n",
       "      <td>No</td>\n",
       "      <td>4583</td>\n",
       "      <td>1508.0</td>\n",
       "      <td>128.0</td>\n",
       "      <td>360.0</td>\n",
       "      <td>1.0</td>\n",
       "      <td>Rural</td>\n",
       "      <td>N</td>\n",
       "    </tr>\n",
       "    <tr>\n",
       "      <th>2</th>\n",
       "      <td>Male</td>\n",
       "      <td>Yes</td>\n",
       "      <td>0</td>\n",
       "      <td>Graduate</td>\n",
       "      <td>Yes</td>\n",
       "      <td>3000</td>\n",
       "      <td>0.0</td>\n",
       "      <td>66.0</td>\n",
       "      <td>360.0</td>\n",
       "      <td>1.0</td>\n",
       "      <td>Urban</td>\n",
       "      <td>Y</td>\n",
       "    </tr>\n",
       "    <tr>\n",
       "      <th>3</th>\n",
       "      <td>Male</td>\n",
       "      <td>Yes</td>\n",
       "      <td>0</td>\n",
       "      <td>Not Graduate</td>\n",
       "      <td>No</td>\n",
       "      <td>2583</td>\n",
       "      <td>2358.0</td>\n",
       "      <td>120.0</td>\n",
       "      <td>360.0</td>\n",
       "      <td>1.0</td>\n",
       "      <td>Urban</td>\n",
       "      <td>Y</td>\n",
       "    </tr>\n",
       "    <tr>\n",
       "      <th>4</th>\n",
       "      <td>Male</td>\n",
       "      <td>No</td>\n",
       "      <td>0</td>\n",
       "      <td>Graduate</td>\n",
       "      <td>No</td>\n",
       "      <td>6000</td>\n",
       "      <td>0.0</td>\n",
       "      <td>141.0</td>\n",
       "      <td>360.0</td>\n",
       "      <td>1.0</td>\n",
       "      <td>Urban</td>\n",
       "      <td>Y</td>\n",
       "    </tr>\n",
       "  </tbody>\n",
       "</table>\n",
       "</div>"
      ],
      "text/plain": [
       "  Gender Married Dependents     Education Self_Employed  ApplicantIncome  \\\n",
       "0   Male      No          0      Graduate            No             5849   \n",
       "1   Male     Yes          1      Graduate            No             4583   \n",
       "2   Male     Yes          0      Graduate           Yes             3000   \n",
       "3   Male     Yes          0  Not Graduate            No             2583   \n",
       "4   Male      No          0      Graduate            No             6000   \n",
       "\n",
       "   CoapplicantIncome  LoanAmount  Loan_Amount_Term  Credit_History  \\\n",
       "0                0.0         NaN             360.0             1.0   \n",
       "1             1508.0       128.0             360.0             1.0   \n",
       "2                0.0        66.0             360.0             1.0   \n",
       "3             2358.0       120.0             360.0             1.0   \n",
       "4                0.0       141.0             360.0             1.0   \n",
       "\n",
       "  Property_Area Loan_Status  \n",
       "0         Urban           Y  \n",
       "1         Rural           N  \n",
       "2         Urban           Y  \n",
       "3         Urban           Y  \n",
       "4         Urban           Y  "
      ]
     },
     "execution_count": 16,
     "metadata": {},
     "output_type": "execute_result"
    }
   ],
   "source": [
    "df.head()"
   ]
  },
  {
   "cell_type": "code",
   "execution_count": 17,
   "id": "0fbd2030-32d0-44af-97ae-723d5c5e01d3",
   "metadata": {
    "tags": []
   },
   "outputs": [
    {
     "name": "stdout",
     "output_type": "stream",
     "text": [
      "Gender  Married\n",
      "Female  No          80\n",
      "        Yes         31\n",
      "Male    No         130\n",
      "        Yes        357\n",
      "dtype: int64\n"
     ]
    }
   ],
   "source": [
    "# How many men and women are married who apply for home loans?\n",
    "\n",
    "gender_married_counts = df.groupby(['Gender', 'Married']).size()\n",
    "\n",
    "print(gender_married_counts)"
   ]
  },
  {
   "cell_type": "code",
   "execution_count": 18,
   "id": "fc7c1fd0-0bb8-4bf4-aa85-42dffff8996b",
   "metadata": {
    "tags": []
   },
   "outputs": [
    {
     "name": "stdout",
     "output_type": "stream",
     "text": [
      "Gender  Married  Loan_Status\n",
      "Female  No       N               29\n",
      "                 Y               51\n",
      "        Yes      N                8\n",
      "                 Y               23\n",
      "Male    No       N               49\n",
      "                 Y               81\n",
      "        Yes      N              101\n",
      "                 Y              256\n",
      "dtype: int64\n"
     ]
    }
   ],
   "source": [
    "gender_married_counts_1 = df.groupby(['Gender', 'Married', 'Loan_Status']).size()\n",
    "\n",
    "print(gender_married_counts_1)"
   ]
  },
  {
   "cell_type": "code",
   "execution_count": 19,
   "id": "71b6c20e-c35f-40d4-b746-20a71521472f",
   "metadata": {
    "tags": []
   },
   "outputs": [
    {
     "data": {
      "image/png": "[encoded data removed]",
      "text/plain": [
       "<Figure size 640x480 with 1 Axes>"
      ]
     },
     "metadata": {},
     "output_type": "display_data"
    }
   ],
   "source": [
    "# Visualize the data in a plot\n",
    "df_plot = gender_married_counts_1.reset_index(name='Count')\n",
    "\n",
    "# Create a pivot table for plotting\n",
    "pivot_df = df_plot.pivot_table(index=['Gender', 'Married'], columns='Loan_Status', values='Count', fill_value=0)\n",
    "\n",
    "# Plot a stacked bar chart\n",
    "pivot_df.plot(kind='bar', stacked=True)\n",
    "plt.title('Loan Status by Gender and Marital Status')\n",
    "plt.xlabel('Gender, Married')\n",
    "plt.ylabel('Count')\n",
    "plt.legend(title='Loan Status', loc='upper right')\n",
    "\n",
    "# Show the plot\n",
    "plt.show()\n"
   ]
  },
  {
   "cell_type": "code",
   "execution_count": 20,
   "id": "b4ebd93e-ed36-49c0-a996-9a4f4c0eab6c",
   "metadata": {
    "tags": []
   },
   "outputs": [
    {
     "name": "stdout",
     "output_type": "stream",
     "text": [
      "Self_Employed        No  Yes\n",
      "Gender Loan_Status          \n",
      "Female N             29    6\n",
      "       Y             60    9\n",
      "Male   N            123   20\n",
      "       Y            279   43\n",
      "\n",
      "\n"
     ]
    },
    {
     "data": {
      "image/png": "[encoded data removed]",
      "text/plain": [
       "<Figure size 640x480 with 1 Axes>"
      ]
     },
     "metadata": {},
     "output_type": "display_data"
    }
   ],
   "source": [
    "# Are the majority of people whow have a home loan self employed or employed ?\n",
    "filtered_df = df[df['Gender'].isin(['Male', 'Female'])]\n",
    "\n",
    "# Group the data:\n",
    "result = filtered_df.groupby(['Gender', 'Loan_Status', 'Self_Employed'])['Gender'].count().unstack()\n",
    "\n",
    "print(result)\n",
    "print(\"\\n\")\n",
    "\n",
    "# Create bar plot to visualize the data:\n",
    "result.plot(kind='bar', stacked=True)\n",
    "\n",
    "# Set plot information:\n",
    "plt.xlabel('Gender and Self-Employment Status')\n",
    "plt.ylabel('Count')\n",
    "plt.title('Loan Status by Gender and Self-Employment Status')\n",
    "plt.legend(title='Loan Status', loc='upper left')\n",
    "plt.show()"
   ]
  },
  {
   "cell_type": "code",
   "execution_count": 21,
   "id": "c3102030-9bb4-40d9-ac57-cbf3c86d71ab",
   "metadata": {},
   "outputs": [
    {
     "data": {
      "text/html": [
       "<div>\n",
       "<style scoped>\n",
       "    .dataframe tbody tr th:only-of-type {\n",
       "        vertical-align: middle;\n",
       "    }\n",
       "\n",
       "    .dataframe tbody tr th {\n",
       "        vertical-align: top;\n",
       "    }\n",
       "\n",
       "    .dataframe thead th {\n",
       "        text-align: right;\n",
       "    }\n",
       "</style>\n",
       "<table border=\"1\" class=\"dataframe\">\n",
       "  <thead>\n",
       "    <tr style=\"text-align: right;\">\n",
       "      <th></th>\n",
       "      <th>0</th>\n",
       "      <th>1</th>\n",
       "      <th>2</th>\n",
       "      <th>3</th>\n",
       "      <th>4</th>\n",
       "    </tr>\n",
       "  </thead>\n",
       "  <tbody>\n",
       "    <tr>\n",
       "      <th>Gender</th>\n",
       "      <td>Male</td>\n",
       "      <td>Male</td>\n",
       "      <td>Male</td>\n",
       "      <td>Male</td>\n",
       "      <td>Male</td>\n",
       "    </tr>\n",
       "    <tr>\n",
       "      <th>Married</th>\n",
       "      <td>No</td>\n",
       "      <td>Yes</td>\n",
       "      <td>Yes</td>\n",
       "      <td>Yes</td>\n",
       "      <td>No</td>\n",
       "    </tr>\n",
       "    <tr>\n",
       "      <th>Dependents</th>\n",
       "      <td>0</td>\n",
       "      <td>1</td>\n",
       "      <td>0</td>\n",
       "      <td>0</td>\n",
       "      <td>0</td>\n",
       "    </tr>\n",
       "    <tr>\n",
       "      <th>Education</th>\n",
       "      <td>Graduate</td>\n",
       "      <td>Graduate</td>\n",
       "      <td>Graduate</td>\n",
       "      <td>Not Graduate</td>\n",
       "      <td>Graduate</td>\n",
       "    </tr>\n",
       "    <tr>\n",
       "      <th>Self_Employed</th>\n",
       "      <td>No</td>\n",
       "      <td>No</td>\n",
       "      <td>Yes</td>\n",
       "      <td>No</td>\n",
       "      <td>No</td>\n",
       "    </tr>\n",
       "    <tr>\n",
       "      <th>ApplicantIncome</th>\n",
       "      <td>5849</td>\n",
       "      <td>4583</td>\n",
       "      <td>3000</td>\n",
       "      <td>2583</td>\n",
       "      <td>6000</td>\n",
       "    </tr>\n",
       "    <tr>\n",
       "      <th>CoapplicantIncome</th>\n",
       "      <td>0.0</td>\n",
       "      <td>1508.0</td>\n",
       "      <td>0.0</td>\n",
       "      <td>2358.0</td>\n",
       "      <td>0.0</td>\n",
       "    </tr>\n",
       "    <tr>\n",
       "      <th>LoanAmount</th>\n",
       "      <td>NaN</td>\n",
       "      <td>128.0</td>\n",
       "      <td>66.0</td>\n",
       "      <td>120.0</td>\n",
       "      <td>141.0</td>\n",
       "    </tr>\n",
       "    <tr>\n",
       "      <th>Loan_Amount_Term</th>\n",
       "      <td>360.0</td>\n",
       "      <td>360.0</td>\n",
       "      <td>360.0</td>\n",
       "      <td>360.0</td>\n",
       "      <td>360.0</td>\n",
       "    </tr>\n",
       "    <tr>\n",
       "      <th>Credit_History</th>\n",
       "      <td>1.0</td>\n",
       "      <td>1.0</td>\n",
       "      <td>1.0</td>\n",
       "      <td>1.0</td>\n",
       "      <td>1.0</td>\n",
       "    </tr>\n",
       "    <tr>\n",
       "      <th>Property_Area</th>\n",
       "      <td>Urban</td>\n",
       "      <td>Rural</td>\n",
       "      <td>Urban</td>\n",
       "      <td>Urban</td>\n",
       "      <td>Urban</td>\n",
       "    </tr>\n",
       "    <tr>\n",
       "      <th>Loan_Status</th>\n",
       "      <td>Y</td>\n",
       "      <td>N</td>\n",
       "      <td>Y</td>\n",
       "      <td>Y</td>\n",
       "      <td>Y</td>\n",
       "    </tr>\n",
       "  </tbody>\n",
       "</table>\n",
       "</div>"
      ],
      "text/plain": [
       "                          0         1         2             3         4\n",
       "Gender                 Male      Male      Male          Male      Male\n",
       "Married                  No       Yes       Yes           Yes        No\n",
       "Dependents                0         1         0             0         0\n",
       "Education          Graduate  Graduate  Graduate  Not Graduate  Graduate\n",
       "Self_Employed            No        No       Yes            No        No\n",
       "ApplicantIncome        5849      4583      3000          2583      6000\n",
       "CoapplicantIncome       0.0    1508.0       0.0        2358.0       0.0\n",
       "LoanAmount              NaN     128.0      66.0         120.0     141.0\n",
       "Loan_Amount_Term      360.0     360.0     360.0         360.0     360.0\n",
       "Credit_History          1.0       1.0       1.0           1.0       1.0\n",
       "Property_Area         Urban     Rural     Urban         Urban     Urban\n",
       "Loan_Status               Y         N         Y             Y         Y"
      ]
     },
     "execution_count": 21,
     "metadata": {},
     "output_type": "execute_result"
    }
   ],
   "source": [
    "df.head().T"
   ]
  },
  {
   "cell_type": "code",
   "execution_count": 22,
   "id": "e35a4fcd-a098-4d50-bb97-e4c153134511",
   "metadata": {},
   "outputs": [
    {
     "name": "stdout",
     "output_type": "stream",
     "text": [
      "<class 'pandas.core.frame.DataFrame'>\n",
      "RangeIndex: 614 entries, 0 to 613\n",
      "Data columns (total 12 columns):\n",
      " #   Column             Non-Null Count  Dtype  \n",
      "---  ------             --------------  -----  \n",
      " 0   Gender             601 non-null    object \n",
      " 1   Married            611 non-null    object \n",
      " 2   Dependents         599 non-null    object \n",
      " 3   Education          614 non-null    object \n",
      " 4   Self_Employed      582 non-null    object \n",
      " 5   ApplicantIncome    614 non-null    int64  \n",
      " 6   CoapplicantIncome  614 non-null    float64\n",
      " 7   LoanAmount         592 non-null    float64\n",
      " 8   Loan_Amount_Term   600 non-null    float64\n",
      " 9   Credit_History     564 non-null    float64\n",
      " 10  Property_Area      614 non-null    object \n",
      " 11  Loan_Status        614 non-null    object \n",
      "dtypes: float64(4), int64(1), object(7)\n",
      "memory usage: 57.7+ KB\n"
     ]
    }
   ],
   "source": [
    "df.info()"
   ]
  },
  {
   "cell_type": "code",
   "execution_count": 23,
   "id": "40ebeffd-cf9d-48ca-aaea-d00b0f84a074",
   "metadata": {},
   "outputs": [],
   "source": [
    "numerical_columns = ['ApplicantIncome', 'CoapplicantIncome', 'LoanAmount', 'Loan_Amount_Term']\n"
   ]
  },
  {
   "cell_type": "code",
   "execution_count": 24,
   "id": "7e8fc8bf-491d-4ec3-9745-159dfd29a05f",
   "metadata": {},
   "outputs": [
    {
     "data": {
      "image/png": "[encoded data removed]",
      "text/plain": [
       "<Figure size 1900x900 with 4 Axes>"
      ]
     },
     "metadata": {},
     "output_type": "display_data"
    }
   ],
   "source": [
    "def plot_numerical_histplots(df, numerical_columns):\n",
    "    \"\"\"\n",
    "    Plot Seaborn histplot for all numerical columns in the DataFrame.\n",
    "    \n",
    "    Parameters:\n",
    "    df (pd.DataFrame): Input DataFrame\n",
    "    numerical_columns (list of str): List of numerical column names in the DataFrame\n",
    "    \"\"\"\n",
    "    # Set up matplotlib figire with a size for each subplot\n",
    "    plt.figure(figsize=(19, 9))\n",
    "    \n",
    "    # Iterate over the list of numeric columns\n",
    "    for idx, col in enumerate(numerical_columns, 1):\n",
    "        # Set the style of the plots\n",
    "        sns.set(style=SEABORN_STYLE)\n",
    "        # Create a subplot for each column\n",
    "        plt.subplot(3, 2, idx)\n",
    "        # Plot histplot for each numerical column\n",
    "        sns.histplot(data=df[col], kde=True, bins=30)\n",
    "        # Set the plot title\n",
    "        plt.title(f'Distribution of {col}')\n",
    "        # Set xlabel plot\n",
    "        plt.xlabel(col)\n",
    "        # Set ylabel plot\n",
    "        plt.ylabel('Frequency')\n",
    "        \n",
    "    # Adjust layout:\n",
    "    plt.tight_layout()\n",
    "    # Show the plots\n",
    "    plt.show()\n",
    "    \n",
    "# Call the function:\n",
    "plot_numerical_histplots(df, numerical_columns);"
   ]
  },
  {
   "cell_type": "markdown",
   "id": "53c94fab-415b-4c7d-8654-fb9be2ec5cb6",
   "metadata": {},
   "source": [
    "Observations:\n",
    "\n",
    "* The distribution of `ApplicantIncome` and `CoApplicantIncome` is skewed to the left\n",
    "* ` LoanAmount` has a normal distribution and is could be skewed due to outliers.\n",
    "* `Applicant` and `CoApplicantIncome` seems to be equal for individuals who have a home loan"
   ]
  },
  {
   "cell_type": "code",
   "execution_count": 25,
   "id": "4c543f4a-4762-42de-99cf-ff107e2b1e1b",
   "metadata": {},
   "outputs": [
    {
     "data": {
      "text/html": [
       "<div>\n",
       "<style scoped>\n",
       "    .dataframe tbody tr th:only-of-type {\n",
       "        vertical-align: middle;\n",
       "    }\n",
       "\n",
       "    .dataframe tbody tr th {\n",
       "        vertical-align: top;\n",
       "    }\n",
       "\n",
       "    .dataframe thead th {\n",
       "        text-align: right;\n",
       "    }\n",
       "</style>\n",
       "<table border=\"1\" class=\"dataframe\">\n",
       "  <thead>\n",
       "    <tr style=\"text-align: right;\">\n",
       "      <th></th>\n",
       "      <th>0</th>\n",
       "      <th>1</th>\n",
       "      <th>2</th>\n",
       "      <th>3</th>\n",
       "      <th>4</th>\n",
       "    </tr>\n",
       "  </thead>\n",
       "  <tbody>\n",
       "    <tr>\n",
       "      <th>Gender</th>\n",
       "      <td>Male</td>\n",
       "      <td>Male</td>\n",
       "      <td>Male</td>\n",
       "      <td>Male</td>\n",
       "      <td>Male</td>\n",
       "    </tr>\n",
       "    <tr>\n",
       "      <th>Married</th>\n",
       "      <td>No</td>\n",
       "      <td>Yes</td>\n",
       "      <td>Yes</td>\n",
       "      <td>Yes</td>\n",
       "      <td>No</td>\n",
       "    </tr>\n",
       "    <tr>\n",
       "      <th>Dependents</th>\n",
       "      <td>0</td>\n",
       "      <td>1</td>\n",
       "      <td>0</td>\n",
       "      <td>0</td>\n",
       "      <td>0</td>\n",
       "    </tr>\n",
       "    <tr>\n",
       "      <th>Education</th>\n",
       "      <td>Graduate</td>\n",
       "      <td>Graduate</td>\n",
       "      <td>Graduate</td>\n",
       "      <td>Not Graduate</td>\n",
       "      <td>Graduate</td>\n",
       "    </tr>\n",
       "    <tr>\n",
       "      <th>Self_Employed</th>\n",
       "      <td>No</td>\n",
       "      <td>No</td>\n",
       "      <td>Yes</td>\n",
       "      <td>No</td>\n",
       "      <td>No</td>\n",
       "    </tr>\n",
       "    <tr>\n",
       "      <th>ApplicantIncome</th>\n",
       "      <td>5849</td>\n",
       "      <td>4583</td>\n",
       "      <td>3000</td>\n",
       "      <td>2583</td>\n",
       "      <td>6000</td>\n",
       "    </tr>\n",
       "    <tr>\n",
       "      <th>CoapplicantIncome</th>\n",
       "      <td>0.0</td>\n",
       "      <td>1508.0</td>\n",
       "      <td>0.0</td>\n",
       "      <td>2358.0</td>\n",
       "      <td>0.0</td>\n",
       "    </tr>\n",
       "    <tr>\n",
       "      <th>LoanAmount</th>\n",
       "      <td>NaN</td>\n",
       "      <td>128.0</td>\n",
       "      <td>66.0</td>\n",
       "      <td>120.0</td>\n",
       "      <td>141.0</td>\n",
       "    </tr>\n",
       "    <tr>\n",
       "      <th>Loan_Amount_Term</th>\n",
       "      <td>360.0</td>\n",
       "      <td>360.0</td>\n",
       "      <td>360.0</td>\n",
       "      <td>360.0</td>\n",
       "      <td>360.0</td>\n",
       "    </tr>\n",
       "    <tr>\n",
       "      <th>Credit_History</th>\n",
       "      <td>1.0</td>\n",
       "      <td>1.0</td>\n",
       "      <td>1.0</td>\n",
       "      <td>1.0</td>\n",
       "      <td>1.0</td>\n",
       "    </tr>\n",
       "    <tr>\n",
       "      <th>Property_Area</th>\n",
       "      <td>Urban</td>\n",
       "      <td>Rural</td>\n",
       "      <td>Urban</td>\n",
       "      <td>Urban</td>\n",
       "      <td>Urban</td>\n",
       "    </tr>\n",
       "    <tr>\n",
       "      <th>Loan_Status</th>\n",
       "      <td>Y</td>\n",
       "      <td>N</td>\n",
       "      <td>Y</td>\n",
       "      <td>Y</td>\n",
       "      <td>Y</td>\n",
       "    </tr>\n",
       "  </tbody>\n",
       "</table>\n",
       "</div>"
      ],
      "text/plain": [
       "                          0         1         2             3         4\n",
       "Gender                 Male      Male      Male          Male      Male\n",
       "Married                  No       Yes       Yes           Yes        No\n",
       "Dependents                0         1         0             0         0\n",
       "Education          Graduate  Graduate  Graduate  Not Graduate  Graduate\n",
       "Self_Employed            No        No       Yes            No        No\n",
       "ApplicantIncome        5849      4583      3000          2583      6000\n",
       "CoapplicantIncome       0.0    1508.0       0.0        2358.0       0.0\n",
       "LoanAmount              NaN     128.0      66.0         120.0     141.0\n",
       "Loan_Amount_Term      360.0     360.0     360.0         360.0     360.0\n",
       "Credit_History          1.0       1.0       1.0           1.0       1.0\n",
       "Property_Area         Urban     Rural     Urban         Urban     Urban\n",
       "Loan_Status               Y         N         Y             Y         Y"
      ]
     },
     "execution_count": 25,
     "metadata": {},
     "output_type": "execute_result"
    }
   ],
   "source": [
    "df.head().T"
   ]
  },
  {
   "cell_type": "code",
   "execution_count": 26,
   "id": "8a698929-4c36-4372-b55a-644f7629ba67",
   "metadata": {},
   "outputs": [
    {
     "data": {
      "image/png": "[encoded data removed]",
      "text/plain": [
       "<Figure size 800x600 with 1 Axes>"
      ]
     },
     "metadata": {},
     "output_type": "display_data"
    }
   ],
   "source": [
    "plt.figure(figsize=(8, 6))\n",
    "\n",
    "# Create a count plot:\n",
    "sns.countplot(data=df, x=\"Property_Area\", hue=\"Loan_Status\", palette=\"Set2\")\n",
    "\n",
    "# Add labels and a title:\n",
    "plt.xlabel(\"Property Area\")\n",
    "plt.ylabel(\"Count\")\n",
    "plt.title(\"Property Area vs Loan Status\")\n",
    "\n",
    "plt.show()"
   ]
  },
  {
   "cell_type": "markdown",
   "id": "3f8724b2-8ac5-476b-83d4-87d51c386492",
   "metadata": {},
   "source": [
    "Observation:\n",
    "\n",
    "* The majority of loans are from the semi-urban area, with rural property area having the least loans."
   ]
  },
  {
   "cell_type": "code",
   "execution_count": 27,
   "id": "ab9dfc94-1284-4fe7-a5b2-651df82c60ed",
   "metadata": {},
   "outputs": [
    {
     "data": {
      "image/png": "[encoded data removed]",
      "text/plain": [
       "<Figure size 800x600 with 1 Axes>"
      ]
     },
     "metadata": {},
     "output_type": "display_data"
    }
   ],
   "source": [
    "plt.figure(figsize=(8, 6))\n",
    "\n",
    "# Create a count plot:\n",
    "sns.countplot(data=df, x=\"Education\", hue=\"Loan_Status\", palette=\"Set2\")\n",
    "\n",
    "# Add labels and a title:\n",
    "plt.xlabel(\"Education\")\n",
    "plt.ylabel(\"Count\")\n",
    "plt.title(\"Education vs Loan Status\")\n",
    "\n",
    "plt.show()"
   ]
  },
  {
   "cell_type": "markdown",
   "id": "ba9d6a6d-afb6-4200-ab7a-1df165461d97",
   "metadata": {},
   "source": [
    "Observation:\n",
    "\n",
    "* Graduates have more loans than that of individuals who are not graduates."
   ]
  },
  {
   "cell_type": "code",
   "execution_count": 28,
   "id": "461a6afa-d4e4-4f1b-9160-ffa165b758b1",
   "metadata": {},
   "outputs": [
    {
     "data": {
      "image/png": "[encoded data removed]",
      "text/plain": [
       "<Figure size 1000x600 with 1 Axes>"
      ]
     },
     "metadata": {},
     "output_type": "display_data"
    }
   ],
   "source": [
    "# Create a scatter plot\n",
    "plt.figure(figsize=(10, 6))\n",
    "plt.scatter(df['ApplicantIncome'], df['LoanAmount'], alpha=0.5, c='blue', edgecolors='k')\n",
    "\n",
    "# Add labels and a title\n",
    "plt.xlabel('Applicant Income')\n",
    "plt.ylabel('Loan Amount')\n",
    "plt.title('Loan Amount vs Applicant Income')\n",
    "\n",
    "# Display the plot\n",
    "plt.show()"
   ]
  },
  {
   "cell_type": "markdown",
   "id": "ed476911-ffd9-46fc-b3fe-6d3feec42aaf",
   "metadata": {},
   "source": [
    "Observation:\n",
    "\n",
    "* It seems that as the applicant income increases, the loan amount tends to increase as well."
   ]
  },
  {
   "cell_type": "code",
   "execution_count": 29,
   "id": "56ec9769-46b8-429d-9bd1-82dc124b4f94",
   "metadata": {},
   "outputs": [
    {
     "data": {
      "text/plain": [
       "(12.0, 480.0)"
      ]
     },
     "execution_count": 29,
     "metadata": {},
     "output_type": "execute_result"
    }
   ],
   "source": [
    "# Loan Amount term:\n",
    "df[\"Loan_Amount_Term\"].min(), df[\"Loan_Amount_Term\"].max()"
   ]
  },
  {
   "cell_type": "code",
   "execution_count": 30,
   "id": "ec66e240-3bec-483b-bd1a-2765a6018e14",
   "metadata": {},
   "outputs": [
    {
     "data": {
      "image/png": "[encoded data removed]",
      "text/plain": [
       "<Figure size 800x600 with 1 Axes>"
      ]
     },
     "metadata": {},
     "output_type": "display_data"
    }
   ],
   "source": [
    "# Create a bar plot for Loan Amount Term:\n",
    "plt.figure(figsize=(8, 6))\n",
    "loan_term_counts = df['Loan_Amount_Term'].value_counts().sort_index()\n",
    "loan_term_counts.plot(kind='bar', color='skyblue', edgecolor='k')\n",
    "\n",
    "# Add labels and a title:\n",
    "plt.xlabel('Loan Amount Term')\n",
    "plt.ylabel('Count')\n",
    "plt.title('Loan Amount Term Distribution')\n",
    "plt.show()"
   ]
  },
  {
   "cell_type": "markdown",
   "id": "69162d4a-2746-446a-b46d-9e48a66078a2",
   "metadata": {},
   "source": [
    "Observation:\n",
    "\n",
    "* The most popular Loan Amount Term is 360 by far."
   ]
  },
  {
   "cell_type": "code",
   "execution_count": 31,
   "id": "01e0ff65-90ec-43b0-826c-d2ce78743cc2",
   "metadata": {
    "tags": []
   },
   "outputs": [
    {
     "data": {
      "image/png": "[encoded data removed]",
      "text/plain": [
       "<Figure size 1000x600 with 1 Axes>"
      ]
     },
     "metadata": {},
     "output_type": "display_data"
    }
   ],
   "source": [
    "# Are dependents and loan status somehow related?:\n",
    "\n",
    "# Create a count plot for Dependents vs Loan Status:\n",
    "plt.figure(figsize=(10, 6))\n",
    "sns.countplot(data=df, x=\"Dependents\", hue=\"Loan_Status\", palette=\"Set2\")\n",
    "\n",
    "# Add labels and a title:\n",
    "plt.xlabel(\"Number of Dependents\")\n",
    "plt.ylabel(\"Count\")\n",
    "plt.title(\"Dependents vs Loan Status\")\n",
    "plt.show()\n"
   ]
  },
  {
   "cell_type": "markdown",
   "id": "7cb597e3-62da-4141-a96c-2eb68a67a9f6",
   "metadata": {},
   "source": [
    "Observation: \n",
    "* Loan status seems to decrease has dependents increase. The majority of Y status has 0 dependents."
   ]
  },
  {
   "cell_type": "markdown",
   "id": "d0e587cd-1d7e-4655-bbe3-171fe99f4a78",
   "metadata": {
    "jp-MarkdownHeadingCollapsed": true,
    "tags": []
   },
   "source": [
    "# Part II. Data Transformation"
   ]
  },
  {
   "cell_type": "code",
   "execution_count": 32,
   "id": "4be45b8a-3246-4b18-a392-0eb1c74c7062",
   "metadata": {
    "tags": []
   },
   "outputs": [
    {
     "name": "stdout",
     "output_type": "stream",
     "text": [
      "<class 'pandas.core.frame.DataFrame'>\n",
      "RangeIndex: 614 entries, 0 to 613\n",
      "Data columns (total 12 columns):\n",
      " #   Column             Non-Null Count  Dtype  \n",
      "---  ------             --------------  -----  \n",
      " 0   Gender             601 non-null    object \n",
      " 1   Married            611 non-null    object \n",
      " 2   Dependents         599 non-null    object \n",
      " 3   Education          614 non-null    object \n",
      " 4   Self_Employed      582 non-null    object \n",
      " 5   ApplicantIncome    614 non-null    int64  \n",
      " 6   CoapplicantIncome  614 non-null    float64\n",
      " 7   LoanAmount         592 non-null    float64\n",
      " 8   Loan_Amount_Term   600 non-null    float64\n",
      " 9   Credit_History     564 non-null    float64\n",
      " 10  Property_Area      614 non-null    object \n",
      " 11  Loan_Status        614 non-null    object \n",
      "dtypes: float64(4), int64(1), object(7)\n",
      "memory usage: 57.7+ KB\n"
     ]
    }
   ],
   "source": [
    "df.info()"
   ]
  },
  {
   "cell_type": "code",
   "execution_count": 33,
   "id": "1d0f7ef6-eeae-4ce9-b582-ae293fe27d0f",
   "metadata": {
    "tags": []
   },
   "outputs": [
    {
     "data": {
      "text/plain": [
       "Gender               13\n",
       "Married               3\n",
       "Dependents           15\n",
       "Education             0\n",
       "Self_Employed        32\n",
       "ApplicantIncome       0\n",
       "CoapplicantIncome     0\n",
       "LoanAmount           22\n",
       "Loan_Amount_Term     14\n",
       "Credit_History       50\n",
       "Property_Area         0\n",
       "Loan_Status           0\n",
       "dtype: int64"
      ]
     },
     "execution_count": 33,
     "metadata": {},
     "output_type": "execute_result"
    }
   ],
   "source": [
    "# Check for missing values:\n",
    "df.isna().sum()"
   ]
  },
  {
   "cell_type": "code",
   "execution_count": 35,
   "id": "7b035fe1-9e0d-4dd9-bbf5-2c8a6be4dd78",
   "metadata": {},
   "outputs": [
    {
     "data": {
      "text/html": [
       "<div>\n",
       "<style scoped>\n",
       "    .dataframe tbody tr th:only-of-type {\n",
       "        vertical-align: middle;\n",
       "    }\n",
       "\n",
       "    .dataframe tbody tr th {\n",
       "        vertical-align: top;\n",
       "    }\n",
       "\n",
       "    .dataframe thead th {\n",
       "        text-align: right;\n",
       "    }\n",
       "</style>\n",
       "<table border=\"1\" class=\"dataframe\">\n",
       "  <thead>\n",
       "    <tr style=\"text-align: right;\">\n",
       "      <th></th>\n",
       "      <th>0</th>\n",
       "      <th>1</th>\n",
       "      <th>2</th>\n",
       "      <th>3</th>\n",
       "      <th>4</th>\n",
       "    </tr>\n",
       "  </thead>\n",
       "  <tbody>\n",
       "    <tr>\n",
       "      <th>Gender</th>\n",
       "      <td>Male</td>\n",
       "      <td>Male</td>\n",
       "      <td>Male</td>\n",
       "      <td>Male</td>\n",
       "      <td>Male</td>\n",
       "    </tr>\n",
       "    <tr>\n",
       "      <th>Married</th>\n",
       "      <td>No</td>\n",
       "      <td>Yes</td>\n",
       "      <td>Yes</td>\n",
       "      <td>Yes</td>\n",
       "      <td>No</td>\n",
       "    </tr>\n",
       "    <tr>\n",
       "      <th>Dependents</th>\n",
       "      <td>0</td>\n",
       "      <td>1</td>\n",
       "      <td>0</td>\n",
       "      <td>0</td>\n",
       "      <td>0</td>\n",
       "    </tr>\n",
       "    <tr>\n",
       "      <th>Education</th>\n",
       "      <td>Graduate</td>\n",
       "      <td>Graduate</td>\n",
       "      <td>Graduate</td>\n",
       "      <td>Not Graduate</td>\n",
       "      <td>Graduate</td>\n",
       "    </tr>\n",
       "    <tr>\n",
       "      <th>Self_Employed</th>\n",
       "      <td>No</td>\n",
       "      <td>No</td>\n",
       "      <td>Yes</td>\n",
       "      <td>No</td>\n",
       "      <td>No</td>\n",
       "    </tr>\n",
       "    <tr>\n",
       "      <th>ApplicantIncome</th>\n",
       "      <td>5849</td>\n",
       "      <td>4583</td>\n",
       "      <td>3000</td>\n",
       "      <td>2583</td>\n",
       "      <td>6000</td>\n",
       "    </tr>\n",
       "    <tr>\n",
       "      <th>CoapplicantIncome</th>\n",
       "      <td>0.0</td>\n",
       "      <td>1508.0</td>\n",
       "      <td>0.0</td>\n",
       "      <td>2358.0</td>\n",
       "      <td>0.0</td>\n",
       "    </tr>\n",
       "    <tr>\n",
       "      <th>LoanAmount</th>\n",
       "      <td>NaN</td>\n",
       "      <td>128.0</td>\n",
       "      <td>66.0</td>\n",
       "      <td>120.0</td>\n",
       "      <td>141.0</td>\n",
       "    </tr>\n",
       "    <tr>\n",
       "      <th>Loan_Amount_Term</th>\n",
       "      <td>360.0</td>\n",
       "      <td>360.0</td>\n",
       "      <td>360.0</td>\n",
       "      <td>360.0</td>\n",
       "      <td>360.0</td>\n",
       "    </tr>\n",
       "    <tr>\n",
       "      <th>Credit_History</th>\n",
       "      <td>1.0</td>\n",
       "      <td>1.0</td>\n",
       "      <td>1.0</td>\n",
       "      <td>1.0</td>\n",
       "      <td>1.0</td>\n",
       "    </tr>\n",
       "    <tr>\n",
       "      <th>Property_Area</th>\n",
       "      <td>Urban</td>\n",
       "      <td>Rural</td>\n",
       "      <td>Urban</td>\n",
       "      <td>Urban</td>\n",
       "      <td>Urban</td>\n",
       "    </tr>\n",
       "    <tr>\n",
       "      <th>Loan_Status</th>\n",
       "      <td>Y</td>\n",
       "      <td>N</td>\n",
       "      <td>Y</td>\n",
       "      <td>Y</td>\n",
       "      <td>Y</td>\n",
       "    </tr>\n",
       "  </tbody>\n",
       "</table>\n",
       "</div>"
      ],
      "text/plain": [
       "                          0         1         2             3         4\n",
       "Gender                 Male      Male      Male          Male      Male\n",
       "Married                  No       Yes       Yes           Yes        No\n",
       "Dependents                0         1         0             0         0\n",
       "Education          Graduate  Graduate  Graduate  Not Graduate  Graduate\n",
       "Self_Employed            No        No       Yes            No        No\n",
       "ApplicantIncome        5849      4583      3000          2583      6000\n",
       "CoapplicantIncome       0.0    1508.0       0.0        2358.0       0.0\n",
       "LoanAmount              NaN     128.0      66.0         120.0     141.0\n",
       "Loan_Amount_Term      360.0     360.0     360.0         360.0     360.0\n",
       "Credit_History          1.0       1.0       1.0           1.0       1.0\n",
       "Property_Area         Urban     Rural     Urban         Urban     Urban\n",
       "Loan_Status               Y         N         Y             Y         Y"
      ]
     },
     "execution_count": 35,
     "metadata": {},
     "output_type": "execute_result"
    }
   ],
   "source": [
    "df.head().T"
   ]
  },
  {
   "cell_type": "code",
   "execution_count": 36,
   "id": "8a364edb-bcb9-46ac-a0ff-16748565bb50",
   "metadata": {},
   "outputs": [
    {
     "name": "stdout",
     "output_type": "stream",
     "text": [
      "Number of missing values in the 'Gender' column: 13\n"
     ]
    }
   ],
   "source": [
    "# Gender:\n",
    "\n",
    "missing_values_in_gender = df['Gender'].isnull().sum()\n",
    "print(\"Number of missing values in the 'Gender' column:\", missing_values_in_gender)"
   ]
  },
  {
   "cell_type": "code",
   "execution_count": 38,
   "id": "7ea000a3-82de-44e1-bd55-819e5c214eef",
   "metadata": {},
   "outputs": [],
   "source": [
    "# Drop the rows with missing values in the Gender column:\n",
    "df.dropna(subset=['Gender'], inplace=True)"
   ]
  },
  {
   "cell_type": "code",
   "execution_count": 39,
   "id": "24960f09-c007-4a9f-b96a-f7ac18f81132",
   "metadata": {},
   "outputs": [
    {
     "name": "stdout",
     "output_type": "stream",
     "text": [
      "Number of missing values in the 'Gender' column: 0\n"
     ]
    }
   ],
   "source": [
    "# Check for missing values in Gender:\n",
    "missing_values_in_gender = df['Gender'].isnull().sum()\n",
    "print(\"Number of missing values in the 'Gender' column:\", missing_values_in_gender)"
   ]
  },
  {
   "cell_type": "code",
   "execution_count": 40,
   "id": "51c0ba57-693d-464f-ab5b-422992c3ecc2",
   "metadata": {},
   "outputs": [],
   "source": [
    "# Replace Male with 1 and Female with 0:\n",
    "df['Gender'] = df['Gender'].replace({'Male': 1, 'Female': 0})\n",
    "df['Gender'] = df['Gender'].astype(float)"
   ]
  },
  {
   "cell_type": "code",
   "execution_count": 41,
   "id": "8f132cbe-a2b0-4a90-8b88-cdd609ea3ada",
   "metadata": {},
   "outputs": [
    {
     "data": {
      "text/plain": [
       "dtype('float64')"
      ]
     },
     "execution_count": 41,
     "metadata": {},
     "output_type": "execute_result"
    }
   ],
   "source": [
    "df['Gender'].dtype"
   ]
  },
  {
   "cell_type": "code",
   "execution_count": 42,
   "id": "f369c8c7-8ee0-4ec1-b520-fce2165362bb",
   "metadata": {},
   "outputs": [
    {
     "name": "stdout",
     "output_type": "stream",
     "text": [
      "Number of missing values in the 'Married' column:  3\n"
     ]
    }
   ],
   "source": [
    "# Married:\n",
    "\n",
    "missing_values_in_married = df['Married'].isnull().sum()\n",
    "print(\"Number of missing values in the 'Married' column: \", missing_values_in_married)"
   ]
  },
  {
   "cell_type": "code",
   "execution_count": 44,
   "id": "8e068cc2-f2b6-482c-a04e-b00e257d5161",
   "metadata": {},
   "outputs": [],
   "source": [
    "# Drop the rows with missing values in Married:\n",
    "df.dropna(subset=['Married'], inplace=True)"
   ]
  },
  {
   "cell_type": "code",
   "execution_count": 45,
   "id": "a89c6bf2-7f45-425f-b80d-52db9b8712a9",
   "metadata": {
    "tags": []
   },
   "outputs": [
    {
     "name": "stdout",
     "output_type": "stream",
     "text": [
      "Number of missing values in the 'Married' column:  0\n"
     ]
    }
   ],
   "source": [
    "missing_values_in_married = df['Married'].isnull().sum()\n",
    "print(\"Number of missing values in the 'Married' column: \", missing_values_in_married)"
   ]
  },
  {
   "cell_type": "code",
   "execution_count": 46,
   "id": "f938fc4d-1c2c-4617-8651-6be9ac56909c",
   "metadata": {
    "tags": []
   },
   "outputs": [],
   "source": [
    "# Replace No with 0, and Yes with 1:\n",
    "df['Married'] = df['Married'].replace({'No': 0, 'Yes':1})\n",
    "df['Married'] = df['Married'].astype(float)"
   ]
  },
  {
   "cell_type": "code",
   "execution_count": 47,
   "id": "b49d2025-5467-4b0c-a6c0-6e856a1b3d4c",
   "metadata": {
    "tags": []
   },
   "outputs": [
    {
     "data": {
      "text/plain": [
       "dtype('float64')"
      ]
     },
     "execution_count": 47,
     "metadata": {},
     "output_type": "execute_result"
    }
   ],
   "source": [
    "df['Married'].dtype"
   ]
  },
  {
   "cell_type": "code",
   "execution_count": 49,
   "id": "2eb3de84-b636-4d80-8a37-ff00399d3ca3",
   "metadata": {
    "tags": []
   },
   "outputs": [
    {
     "data": {
      "text/html": [
       "<div>\n",
       "<style scoped>\n",
       "    .dataframe tbody tr th:only-of-type {\n",
       "        vertical-align: middle;\n",
       "    }\n",
       "\n",
       "    .dataframe tbody tr th {\n",
       "        vertical-align: top;\n",
       "    }\n",
       "\n",
       "    .dataframe thead th {\n",
       "        text-align: right;\n",
       "    }\n",
       "</style>\n",
       "<table border=\"1\" class=\"dataframe\">\n",
       "  <thead>\n",
       "    <tr style=\"text-align: right;\">\n",
       "      <th></th>\n",
       "      <th>0</th>\n",
       "      <th>1</th>\n",
       "      <th>2</th>\n",
       "      <th>3</th>\n",
       "      <th>4</th>\n",
       "    </tr>\n",
       "  </thead>\n",
       "  <tbody>\n",
       "    <tr>\n",
       "      <th>Gender</th>\n",
       "      <td>1.0</td>\n",
       "      <td>1.0</td>\n",
       "      <td>1.0</td>\n",
       "      <td>1.0</td>\n",
       "      <td>1.0</td>\n",
       "    </tr>\n",
       "    <tr>\n",
       "      <th>Married</th>\n",
       "      <td>0.0</td>\n",
       "      <td>1.0</td>\n",
       "      <td>1.0</td>\n",
       "      <td>1.0</td>\n",
       "      <td>0.0</td>\n",
       "    </tr>\n",
       "    <tr>\n",
       "      <th>Dependents</th>\n",
       "      <td>0</td>\n",
       "      <td>1</td>\n",
       "      <td>0</td>\n",
       "      <td>0</td>\n",
       "      <td>0</td>\n",
       "    </tr>\n",
       "    <tr>\n",
       "      <th>Education</th>\n",
       "      <td>Graduate</td>\n",
       "      <td>Graduate</td>\n",
       "      <td>Graduate</td>\n",
       "      <td>Not Graduate</td>\n",
       "      <td>Graduate</td>\n",
       "    </tr>\n",
       "    <tr>\n",
       "      <th>Self_Employed</th>\n",
       "      <td>No</td>\n",
       "      <td>No</td>\n",
       "      <td>Yes</td>\n",
       "      <td>No</td>\n",
       "      <td>No</td>\n",
       "    </tr>\n",
       "    <tr>\n",
       "      <th>ApplicantIncome</th>\n",
       "      <td>5849</td>\n",
       "      <td>4583</td>\n",
       "      <td>3000</td>\n",
       "      <td>2583</td>\n",
       "      <td>6000</td>\n",
       "    </tr>\n",
       "    <tr>\n",
       "      <th>CoapplicantIncome</th>\n",
       "      <td>0.0</td>\n",
       "      <td>1508.0</td>\n",
       "      <td>0.0</td>\n",
       "      <td>2358.0</td>\n",
       "      <td>0.0</td>\n",
       "    </tr>\n",
       "    <tr>\n",
       "      <th>LoanAmount</th>\n",
       "      <td>NaN</td>\n",
       "      <td>128.0</td>\n",
       "      <td>66.0</td>\n",
       "      <td>120.0</td>\n",
       "      <td>141.0</td>\n",
       "    </tr>\n",
       "    <tr>\n",
       "      <th>Loan_Amount_Term</th>\n",
       "      <td>360.0</td>\n",
       "      <td>360.0</td>\n",
       "      <td>360.0</td>\n",
       "      <td>360.0</td>\n",
       "      <td>360.0</td>\n",
       "    </tr>\n",
       "    <tr>\n",
       "      <th>Credit_History</th>\n",
       "      <td>1.0</td>\n",
       "      <td>1.0</td>\n",
       "      <td>1.0</td>\n",
       "      <td>1.0</td>\n",
       "      <td>1.0</td>\n",
       "    </tr>\n",
       "    <tr>\n",
       "      <th>Property_Area</th>\n",
       "      <td>Urban</td>\n",
       "      <td>Rural</td>\n",
       "      <td>Urban</td>\n",
       "      <td>Urban</td>\n",
       "      <td>Urban</td>\n",
       "    </tr>\n",
       "    <tr>\n",
       "      <th>Loan_Status</th>\n",
       "      <td>Y</td>\n",
       "      <td>N</td>\n",
       "      <td>Y</td>\n",
       "      <td>Y</td>\n",
       "      <td>Y</td>\n",
       "    </tr>\n",
       "  </tbody>\n",
       "</table>\n",
       "</div>"
      ],
      "text/plain": [
       "                          0         1         2             3         4\n",
       "Gender                  1.0       1.0       1.0           1.0       1.0\n",
       "Married                 0.0       1.0       1.0           1.0       0.0\n",
       "Dependents                0         1         0             0         0\n",
       "Education          Graduate  Graduate  Graduate  Not Graduate  Graduate\n",
       "Self_Employed            No        No       Yes            No        No\n",
       "ApplicantIncome        5849      4583      3000          2583      6000\n",
       "CoapplicantIncome       0.0    1508.0       0.0        2358.0       0.0\n",
       "LoanAmount              NaN     128.0      66.0         120.0     141.0\n",
       "Loan_Amount_Term      360.0     360.0     360.0         360.0     360.0\n",
       "Credit_History          1.0       1.0       1.0           1.0       1.0\n",
       "Property_Area         Urban     Rural     Urban         Urban     Urban\n",
       "Loan_Status               Y         N         Y             Y         Y"
      ]
     },
     "execution_count": 49,
     "metadata": {},
     "output_type": "execute_result"
    }
   ],
   "source": [
    "df.head().T"
   ]
  },
  {
   "cell_type": "code",
   "execution_count": 52,
   "id": "a2bc54ac-92f4-4c26-ae5e-b1041e05df4c",
   "metadata": {
    "tags": []
   },
   "outputs": [
    {
     "data": {
      "text/plain": [
       "array(['Graduate', 'Not Graduate'], dtype=object)"
      ]
     },
     "execution_count": 52,
     "metadata": {},
     "output_type": "execute_result"
    }
   ],
   "source": [
    "# Education:\n",
    "df['Education'].unique()"
   ]
  },
  {
   "cell_type": "code",
   "execution_count": 53,
   "id": "69cf60c5-7d4a-4934-bd48-fe7675ec212a",
   "metadata": {
    "tags": []
   },
   "outputs": [],
   "source": [
    "# Replace 'Graduate' with 1, and 'Not Graduate' with 0:\n",
    "df['Education'] = df['Education'].replace({'Graduate': 1, 'Not Graduate': 0})\n",
    "df['Education'] = df['Education'].astype(float)"
   ]
  },
  {
   "cell_type": "code",
   "execution_count": 54,
   "id": "94e11005-1ad2-41ca-9514-08de7f655c2f",
   "metadata": {
    "tags": []
   },
   "outputs": [
    {
     "name": "stdout",
     "output_type": "stream",
     "text": [
      "Number of missing values in the 'Education' column:  0\n"
     ]
    }
   ],
   "source": [
    "missing_values_in_education = df['Education'].isnull().sum()\n",
    "print(\"Number of missing values in the 'Education' column: \", missing_values_in_education)"
   ]
  },
  {
   "cell_type": "code",
   "execution_count": 55,
   "id": "bae5f6fe-4964-43fe-8e5a-7c224ecaf615",
   "metadata": {
    "tags": []
   },
   "outputs": [
    {
     "data": {
      "text/plain": [
       "dtype('float64')"
      ]
     },
     "execution_count": 55,
     "metadata": {},
     "output_type": "execute_result"
    }
   ],
   "source": [
    "df['Education'].dtype"
   ]
  },
  {
   "cell_type": "code",
   "execution_count": 56,
   "id": "69b6a799-df2f-48b4-a4e5-c39571c3cc28",
   "metadata": {
    "tags": []
   },
   "outputs": [
    {
     "data": {
      "text/plain": [
       "array(['No', 'Yes', nan], dtype=object)"
      ]
     },
     "execution_count": 56,
     "metadata": {},
     "output_type": "execute_result"
    }
   ],
   "source": [
    "# Self employed:\n",
    "\n",
    "df['Self_Employed'].unique()"
   ]
  },
  {
   "cell_type": "code",
   "execution_count": 57,
   "id": "b604f8df-db40-466c-927b-ff341a01998a",
   "metadata": {
    "tags": []
   },
   "outputs": [
    {
     "name": "stdout",
     "output_type": "stream",
     "text": [
      "Number of missing values un the 'Self_Employed' column:  0\n"
     ]
    }
   ],
   "source": [
    "missing_values_in_self_employed = df['Self_Employed'].isnull().sum()\n",
    "print(\"Number of missing values un the 'Self_Employed' column: \", missing_values_in_education)"
   ]
  },
  {
   "cell_type": "code",
   "execution_count": 58,
   "id": "f9fe0452-d12e-4504-8a5e-a2f45aba2c2a",
   "metadata": {
    "tags": []
   },
   "outputs": [],
   "source": [
    "# Replace 'No' with 0, and 'Yes' with 1:\n",
    "\n",
    "df['Self_Employed'] = df['Self_Employed'].replace({'No': 0, 'Yes': 1})\n",
    "df['Self_Employed'] = df['Self_Employed'].astype(float)"
   ]
  },
  {
   "cell_type": "code",
   "execution_count": 59,
   "id": "d3290fc5-5a4b-4bba-9475-0f1aba3cad62",
   "metadata": {
    "tags": []
   },
   "outputs": [
    {
     "data": {
      "text/plain": [
       "dtype('float64')"
      ]
     },
     "execution_count": 59,
     "metadata": {},
     "output_type": "execute_result"
    }
   ],
   "source": [
    "df['Self_Employed'].dtype"
   ]
  },
  {
   "cell_type": "code",
   "execution_count": 60,
   "id": "83d858ff-eab6-43b9-b0dc-8fa998c9ba3b",
   "metadata": {
    "tags": []
   },
   "outputs": [
    {
     "data": {
      "text/html": [
       "<div>\n",
       "<style scoped>\n",
       "    .dataframe tbody tr th:only-of-type {\n",
       "        vertical-align: middle;\n",
       "    }\n",
       "\n",
       "    .dataframe tbody tr th {\n",
       "        vertical-align: top;\n",
       "    }\n",
       "\n",
       "    .dataframe thead th {\n",
       "        text-align: right;\n",
       "    }\n",
       "</style>\n",
       "<table border=\"1\" class=\"dataframe\">\n",
       "  <thead>\n",
       "    <tr style=\"text-align: right;\">\n",
       "      <th></th>\n",
       "      <th>0</th>\n",
       "      <th>1</th>\n",
       "      <th>2</th>\n",
       "      <th>3</th>\n",
       "      <th>4</th>\n",
       "    </tr>\n",
       "  </thead>\n",
       "  <tbody>\n",
       "    <tr>\n",
       "      <th>Gender</th>\n",
       "      <td>1.0</td>\n",
       "      <td>1.0</td>\n",
       "      <td>1.0</td>\n",
       "      <td>1.0</td>\n",
       "      <td>1.0</td>\n",
       "    </tr>\n",
       "    <tr>\n",
       "      <th>Married</th>\n",
       "      <td>0.0</td>\n",
       "      <td>1.0</td>\n",
       "      <td>1.0</td>\n",
       "      <td>1.0</td>\n",
       "      <td>0.0</td>\n",
       "    </tr>\n",
       "    <tr>\n",
       "      <th>Dependents</th>\n",
       "      <td>0</td>\n",
       "      <td>1</td>\n",
       "      <td>0</td>\n",
       "      <td>0</td>\n",
       "      <td>0</td>\n",
       "    </tr>\n",
       "    <tr>\n",
       "      <th>Education</th>\n",
       "      <td>1.0</td>\n",
       "      <td>1.0</td>\n",
       "      <td>1.0</td>\n",
       "      <td>0.0</td>\n",
       "      <td>1.0</td>\n",
       "    </tr>\n",
       "    <tr>\n",
       "      <th>Self_Employed</th>\n",
       "      <td>0.0</td>\n",
       "      <td>0.0</td>\n",
       "      <td>1.0</td>\n",
       "      <td>0.0</td>\n",
       "      <td>0.0</td>\n",
       "    </tr>\n",
       "    <tr>\n",
       "      <th>ApplicantIncome</th>\n",
       "      <td>5849</td>\n",
       "      <td>4583</td>\n",
       "      <td>3000</td>\n",
       "      <td>2583</td>\n",
       "      <td>6000</td>\n",
       "    </tr>\n",
       "    <tr>\n",
       "      <th>CoapplicantIncome</th>\n",
       "      <td>0.0</td>\n",
       "      <td>1508.0</td>\n",
       "      <td>0.0</td>\n",
       "      <td>2358.0</td>\n",
       "      <td>0.0</td>\n",
       "    </tr>\n",
       "    <tr>\n",
       "      <th>LoanAmount</th>\n",
       "      <td>NaN</td>\n",
       "      <td>128.0</td>\n",
       "      <td>66.0</td>\n",
       "      <td>120.0</td>\n",
       "      <td>141.0</td>\n",
       "    </tr>\n",
       "    <tr>\n",
       "      <th>Loan_Amount_Term</th>\n",
       "      <td>360.0</td>\n",
       "      <td>360.0</td>\n",
       "      <td>360.0</td>\n",
       "      <td>360.0</td>\n",
       "      <td>360.0</td>\n",
       "    </tr>\n",
       "    <tr>\n",
       "      <th>Credit_History</th>\n",
       "      <td>1.0</td>\n",
       "      <td>1.0</td>\n",
       "      <td>1.0</td>\n",
       "      <td>1.0</td>\n",
       "      <td>1.0</td>\n",
       "    </tr>\n",
       "    <tr>\n",
       "      <th>Property_Area</th>\n",
       "      <td>Urban</td>\n",
       "      <td>Rural</td>\n",
       "      <td>Urban</td>\n",
       "      <td>Urban</td>\n",
       "      <td>Urban</td>\n",
       "    </tr>\n",
       "    <tr>\n",
       "      <th>Loan_Status</th>\n",
       "      <td>Y</td>\n",
       "      <td>N</td>\n",
       "      <td>Y</td>\n",
       "      <td>Y</td>\n",
       "      <td>Y</td>\n",
       "    </tr>\n",
       "  </tbody>\n",
       "</table>\n",
       "</div>"
      ],
      "text/plain": [
       "                       0       1      2       3      4\n",
       "Gender               1.0     1.0    1.0     1.0    1.0\n",
       "Married              0.0     1.0    1.0     1.0    0.0\n",
       "Dependents             0       1      0       0      0\n",
       "Education            1.0     1.0    1.0     0.0    1.0\n",
       "Self_Employed        0.0     0.0    1.0     0.0    0.0\n",
       "ApplicantIncome     5849    4583   3000    2583   6000\n",
       "CoapplicantIncome    0.0  1508.0    0.0  2358.0    0.0\n",
       "LoanAmount           NaN   128.0   66.0   120.0  141.0\n",
       "Loan_Amount_Term   360.0   360.0  360.0   360.0  360.0\n",
       "Credit_History       1.0     1.0    1.0     1.0    1.0\n",
       "Property_Area      Urban   Rural  Urban   Urban  Urban\n",
       "Loan_Status            Y       N      Y       Y      Y"
      ]
     },
     "execution_count": 60,
     "metadata": {},
     "output_type": "execute_result"
    }
   ],
   "source": [
    "df.head().T"
   ]
  },
  {
   "cell_type": "code",
   "execution_count": 61,
   "id": "18838a12-3197-40ab-b20b-d09c6260fde0",
   "metadata": {
    "tags": []
   },
   "outputs": [
    {
     "name": "stdout",
     "output_type": "stream",
     "text": [
      "<class 'pandas.core.frame.DataFrame'>\n",
      "Index: 598 entries, 0 to 613\n",
      "Data columns (total 12 columns):\n",
      " #   Column             Non-Null Count  Dtype  \n",
      "---  ------             --------------  -----  \n",
      " 0   Gender             598 non-null    float64\n",
      " 1   Married            598 non-null    float64\n",
      " 2   Dependents         586 non-null    object \n",
      " 3   Education          598 non-null    float64\n",
      " 4   Self_Employed      566 non-null    float64\n",
      " 5   ApplicantIncome    598 non-null    int64  \n",
      " 6   CoapplicantIncome  598 non-null    float64\n",
      " 7   LoanAmount         577 non-null    float64\n",
      " 8   Loan_Amount_Term   584 non-null    float64\n",
      " 9   Credit_History     549 non-null    float64\n",
      " 10  Property_Area      598 non-null    object \n",
      " 11  Loan_Status        598 non-null    object \n",
      "dtypes: float64(8), int64(1), object(3)\n",
      "memory usage: 60.7+ KB\n"
     ]
    }
   ],
   "source": [
    "df.info()"
   ]
  },
  {
   "cell_type": "code",
   "execution_count": 62,
   "id": "dc4d8a7b-78e6-4f81-82f7-4a2af2407c9a",
   "metadata": {
    "tags": []
   },
   "outputs": [
    {
     "name": "stdout",
     "output_type": "stream",
     "text": [
      "Number of missing values in 'Dependents' column:  12\n"
     ]
    }
   ],
   "source": [
    "# Dependents:\n",
    "\n",
    "missing_values_in_dependents = df['Dependents'].isnull().sum()\n",
    "print(\"Number of missing values in 'Dependents' column: \", missing_values_in_dependents)"
   ]
  },
  {
   "cell_type": "code",
   "execution_count": 63,
   "id": "6707dbd0-3ba7-480d-b487-b648e05e60d1",
   "metadata": {
    "tags": []
   },
   "outputs": [],
   "source": [
    "# Drop the rows with missing values in the column:\n",
    "df.dropna(subset=['Dependents'], inplace=True)"
   ]
  },
  {
   "cell_type": "code",
   "execution_count": 64,
   "id": "800b2825-3382-4d81-8544-93207910e716",
   "metadata": {
    "tags": []
   },
   "outputs": [
    {
     "name": "stdout",
     "output_type": "stream",
     "text": [
      "Number of missing values in 'Dependents' column:  0\n"
     ]
    }
   ],
   "source": [
    "# Check that there are no missing values:\n",
    "\n",
    "missing_values_in_dependents = df['Dependents'].isnull().sum()\n",
    "print(\"Number of missing values in 'Dependents' column: \", missing_values_in_dependents)"
   ]
  },
  {
   "cell_type": "code",
   "execution_count": 65,
   "id": "5a43d29b-9a08-4c8e-ba7c-c039446feda3",
   "metadata": {
    "tags": []
   },
   "outputs": [
    {
     "data": {
      "text/plain": [
       "array(['0', '1', '2', '3+'], dtype=object)"
      ]
     },
     "execution_count": 65,
     "metadata": {},
     "output_type": "execute_result"
    }
   ],
   "source": [
    "df['Dependents'].unique()"
   ]
  },
  {
   "cell_type": "code",
   "execution_count": 67,
   "id": "79b7520b-55ad-45a4-a3fe-bb6b14a10011",
   "metadata": {
    "tags": []
   },
   "outputs": [],
   "source": [
    "# Replace 3+ with 3, take note that '3' would now mean three or more dependents:\n",
    "df['Dependents'] = df['Dependents'].replace({'3+': 3})\n",
    "df['Dependents'] = df['Dependents'].astype(float)"
   ]
  },
  {
   "cell_type": "code",
   "execution_count": 68,
   "id": "13c52d8d-e3a7-4cb9-beb1-b4211befd926",
   "metadata": {
    "tags": []
   },
   "outputs": [
    {
     "data": {
      "text/plain": [
       "dtype('float64')"
      ]
     },
     "execution_count": 68,
     "metadata": {},
     "output_type": "execute_result"
    }
   ],
   "source": [
    "df['Dependents'].dtype"
   ]
  },
  {
   "cell_type": "code",
   "execution_count": 69,
   "id": "b05d100e-97de-41bd-bd31-a425f0b979cb",
   "metadata": {
    "tags": []
   },
   "outputs": [
    {
     "name": "stdout",
     "output_type": "stream",
     "text": [
      "<class 'pandas.core.frame.DataFrame'>\n",
      "Index: 586 entries, 0 to 613\n",
      "Data columns (total 12 columns):\n",
      " #   Column             Non-Null Count  Dtype  \n",
      "---  ------             --------------  -----  \n",
      " 0   Gender             586 non-null    float64\n",
      " 1   Married            586 non-null    float64\n",
      " 2   Dependents         586 non-null    float64\n",
      " 3   Education          586 non-null    float64\n",
      " 4   Self_Employed      554 non-null    float64\n",
      " 5   ApplicantIncome    586 non-null    int64  \n",
      " 6   CoapplicantIncome  586 non-null    float64\n",
      " 7   LoanAmount         566 non-null    float64\n",
      " 8   Loan_Amount_Term   573 non-null    float64\n",
      " 9   Credit_History     537 non-null    float64\n",
      " 10  Property_Area      586 non-null    object \n",
      " 11  Loan_Status        586 non-null    object \n",
      "dtypes: float64(9), int64(1), object(2)\n",
      "memory usage: 59.5+ KB\n"
     ]
    }
   ],
   "source": [
    "df.info()"
   ]
  },
  {
   "cell_type": "code",
   "execution_count": 70,
   "id": "42394ce2-a34d-4227-ab2c-3763bd1798c9",
   "metadata": {
    "tags": []
   },
   "outputs": [
    {
     "data": {
      "text/plain": [
       "array(['Urban', 'Rural', 'Semiurban'], dtype=object)"
      ]
     },
     "execution_count": 70,
     "metadata": {},
     "output_type": "execute_result"
    }
   ],
   "source": [
    "# Property Area:\n",
    "\n",
    "df['Property_Area'].unique()"
   ]
  },
  {
   "cell_type": "code",
   "execution_count": 72,
   "id": "3d8e5a3a-06dd-4e9a-9c2e-177c1b467bbc",
   "metadata": {
    "tags": []
   },
   "outputs": [
    {
     "name": "stdout",
     "output_type": "stream",
     "text": [
      "Number of missing values in 'Properrty_Area' column:  0\n"
     ]
    }
   ],
   "source": [
    "# Check for missing values:\n",
    "\n",
    "missing_values_in_property_area = df['Property_Area'].isnull().sum()\n",
    "print(\"Number of missing values in 'Properrty_Area' column: \", missing_values_in_property_area)"
   ]
  },
  {
   "cell_type": "code",
   "execution_count": 73,
   "id": "f003c827-05e6-4527-9170-5de166964b3e",
   "metadata": {
    "tags": []
   },
   "outputs": [],
   "source": [
    "# Replace 'Urban' with 1, 'Rural' with 2, 'Semiurban' with 3\n",
    "\n",
    "df['Property_Area'] = df['Property_Area'].replace({'Urban': 1, 'Rural': 2, 'Semiurban': 3})\n",
    "df['Property_Area'] = df['Property_Area'].astype(float)"
   ]
  },
  {
   "cell_type": "code",
   "execution_count": 74,
   "id": "b1399100-a681-4afb-837b-ba544207efb0",
   "metadata": {
    "tags": []
   },
   "outputs": [
    {
     "data": {
      "text/plain": [
       "dtype('float64')"
      ]
     },
     "execution_count": 74,
     "metadata": {},
     "output_type": "execute_result"
    }
   ],
   "source": [
    "df['Property_Area'].dtype"
   ]
  },
  {
   "cell_type": "code",
   "execution_count": 75,
   "id": "9a0d840a-b770-441f-b4b5-b0cbb228726b",
   "metadata": {
    "tags": []
   },
   "outputs": [
    {
     "data": {
      "text/plain": [
       "array(['Y', 'N'], dtype=object)"
      ]
     },
     "execution_count": 75,
     "metadata": {},
     "output_type": "execute_result"
    }
   ],
   "source": [
    "# Loan Status:\n",
    "\n",
    "df['Loan_Status'].unique()"
   ]
  },
  {
   "cell_type": "code",
   "execution_count": 77,
   "id": "5d2fd775-e798-4069-95c1-8fe858b659e2",
   "metadata": {
    "tags": []
   },
   "outputs": [
    {
     "name": "stdout",
     "output_type": "stream",
     "text": [
      "Number of missing values in 'Loan_Status' column:  0\n"
     ]
    }
   ],
   "source": [
    "# Check for missing values:\n",
    "\n",
    "missing_values_in_loan_status = df['Loan_Status'].isnull().sum()\n",
    "print(\"Number of missing values in 'Loan_Status' column: \", missing_values_in_loan_status)"
   ]
  },
  {
   "cell_type": "code",
   "execution_count": 78,
   "id": "774f3d1a-b7d4-4d32-9cc6-1611439269ef",
   "metadata": {
    "tags": []
   },
   "outputs": [],
   "source": [
    "# Replace 'Y' with 1, and 'N' with 0:\n",
    "df['Loan_Status'] = df['Loan_Status'].replace({'Y': 1, 'N': 0})\n",
    "df['Loan_Status'] = df['Loan_Status'].astype(float)"
   ]
  },
  {
   "cell_type": "code",
   "execution_count": 79,
   "id": "910946dd-d3f2-4212-9679-108195495010",
   "metadata": {
    "tags": []
   },
   "outputs": [
    {
     "data": {
      "text/plain": [
       "dtype('float64')"
      ]
     },
     "execution_count": 79,
     "metadata": {},
     "output_type": "execute_result"
    }
   ],
   "source": [
    "df['Loan_Status'].dtype"
   ]
  },
  {
   "cell_type": "code",
   "execution_count": 80,
   "id": "4cd8e0dc-d7de-411f-99a3-d9dcb8d86dae",
   "metadata": {
    "tags": []
   },
   "outputs": [
    {
     "data": {
      "text/html": [
       "<div>\n",
       "<style scoped>\n",
       "    .dataframe tbody tr th:only-of-type {\n",
       "        vertical-align: middle;\n",
       "    }\n",
       "\n",
       "    .dataframe tbody tr th {\n",
       "        vertical-align: top;\n",
       "    }\n",
       "\n",
       "    .dataframe thead th {\n",
       "        text-align: right;\n",
       "    }\n",
       "</style>\n",
       "<table border=\"1\" class=\"dataframe\">\n",
       "  <thead>\n",
       "    <tr style=\"text-align: right;\">\n",
       "      <th></th>\n",
       "      <th>0</th>\n",
       "      <th>1</th>\n",
       "      <th>2</th>\n",
       "      <th>3</th>\n",
       "      <th>4</th>\n",
       "    </tr>\n",
       "  </thead>\n",
       "  <tbody>\n",
       "    <tr>\n",
       "      <th>Gender</th>\n",
       "      <td>1.0</td>\n",
       "      <td>1.0</td>\n",
       "      <td>1.0</td>\n",
       "      <td>1.0</td>\n",
       "      <td>1.0</td>\n",
       "    </tr>\n",
       "    <tr>\n",
       "      <th>Married</th>\n",
       "      <td>0.0</td>\n",
       "      <td>1.0</td>\n",
       "      <td>1.0</td>\n",
       "      <td>1.0</td>\n",
       "      <td>0.0</td>\n",
       "    </tr>\n",
       "    <tr>\n",
       "      <th>Dependents</th>\n",
       "      <td>0.0</td>\n",
       "      <td>1.0</td>\n",
       "      <td>0.0</td>\n",
       "      <td>0.0</td>\n",
       "      <td>0.0</td>\n",
       "    </tr>\n",
       "    <tr>\n",
       "      <th>Education</th>\n",
       "      <td>1.0</td>\n",
       "      <td>1.0</td>\n",
       "      <td>1.0</td>\n",
       "      <td>0.0</td>\n",
       "      <td>1.0</td>\n",
       "    </tr>\n",
       "    <tr>\n",
       "      <th>Self_Employed</th>\n",
       "      <td>0.0</td>\n",
       "      <td>0.0</td>\n",
       "      <td>1.0</td>\n",
       "      <td>0.0</td>\n",
       "      <td>0.0</td>\n",
       "    </tr>\n",
       "    <tr>\n",
       "      <th>ApplicantIncome</th>\n",
       "      <td>5849.0</td>\n",
       "      <td>4583.0</td>\n",
       "      <td>3000.0</td>\n",
       "      <td>2583.0</td>\n",
       "      <td>6000.0</td>\n",
       "    </tr>\n",
       "    <tr>\n",
       "      <th>CoapplicantIncome</th>\n",
       "      <td>0.0</td>\n",
       "      <td>1508.0</td>\n",
       "      <td>0.0</td>\n",
       "      <td>2358.0</td>\n",
       "      <td>0.0</td>\n",
       "    </tr>\n",
       "    <tr>\n",
       "      <th>LoanAmount</th>\n",
       "      <td>NaN</td>\n",
       "      <td>128.0</td>\n",
       "      <td>66.0</td>\n",
       "      <td>120.0</td>\n",
       "      <td>141.0</td>\n",
       "    </tr>\n",
       "    <tr>\n",
       "      <th>Loan_Amount_Term</th>\n",
       "      <td>360.0</td>\n",
       "      <td>360.0</td>\n",
       "      <td>360.0</td>\n",
       "      <td>360.0</td>\n",
       "      <td>360.0</td>\n",
       "    </tr>\n",
       "    <tr>\n",
       "      <th>Credit_History</th>\n",
       "      <td>1.0</td>\n",
       "      <td>1.0</td>\n",
       "      <td>1.0</td>\n",
       "      <td>1.0</td>\n",
       "      <td>1.0</td>\n",
       "    </tr>\n",
       "    <tr>\n",
       "      <th>Property_Area</th>\n",
       "      <td>1.0</td>\n",
       "      <td>2.0</td>\n",
       "      <td>1.0</td>\n",
       "      <td>1.0</td>\n",
       "      <td>1.0</td>\n",
       "    </tr>\n",
       "    <tr>\n",
       "      <th>Loan_Status</th>\n",
       "      <td>1.0</td>\n",
       "      <td>0.0</td>\n",
       "      <td>1.0</td>\n",
       "      <td>1.0</td>\n",
       "      <td>1.0</td>\n",
       "    </tr>\n",
       "  </tbody>\n",
       "</table>\n",
       "</div>"
      ],
      "text/plain": [
       "                        0       1       2       3       4\n",
       "Gender                1.0     1.0     1.0     1.0     1.0\n",
       "Married               0.0     1.0     1.0     1.0     0.0\n",
       "Dependents            0.0     1.0     0.0     0.0     0.0\n",
       "Education             1.0     1.0     1.0     0.0     1.0\n",
       "Self_Employed         0.0     0.0     1.0     0.0     0.0\n",
       "ApplicantIncome    5849.0  4583.0  3000.0  2583.0  6000.0\n",
       "CoapplicantIncome     0.0  1508.0     0.0  2358.0     0.0\n",
       "LoanAmount            NaN   128.0    66.0   120.0   141.0\n",
       "Loan_Amount_Term    360.0   360.0   360.0   360.0   360.0\n",
       "Credit_History        1.0     1.0     1.0     1.0     1.0\n",
       "Property_Area         1.0     2.0     1.0     1.0     1.0\n",
       "Loan_Status           1.0     0.0     1.0     1.0     1.0"
      ]
     },
     "execution_count": 80,
     "metadata": {},
     "output_type": "execute_result"
    }
   ],
   "source": [
    "df.head().T"
   ]
  },
  {
   "cell_type": "code",
   "execution_count": 84,
   "id": "18ead160-0c27-4f88-90e3-f788abda431c",
   "metadata": {
    "tags": []
   },
   "outputs": [
    {
     "data": {
      "text/plain": [
       "(Gender                0\n",
       " Married               0\n",
       " Dependents            0\n",
       " Education             0\n",
       " Self_Employed        32\n",
       " ApplicantIncome       0\n",
       " CoapplicantIncome     0\n",
       " LoanAmount           20\n",
       " Loan_Amount_Term     13\n",
       " Credit_History       49\n",
       " Property_Area         0\n",
       " Loan_Status           0\n",
       " dtype: int64,\n",
       " Gender                0\n",
       " Married               0\n",
       " Dependents            0\n",
       " Education             0\n",
       " Self_Employed        32\n",
       " ApplicantIncome       0\n",
       " CoapplicantIncome     0\n",
       " LoanAmount           20\n",
       " Loan_Amount_Term     13\n",
       " Credit_History       49\n",
       " Property_Area         0\n",
       " Loan_Status           0\n",
       " dtype: int64)"
      ]
     },
     "execution_count": 84,
     "metadata": {},
     "output_type": "execute_result"
    }
   ],
   "source": [
    "df.isnull().sum(), df.isna().sum()"
   ]
  },
  {
   "cell_type": "code",
   "execution_count": 86,
   "id": "30755195-7386-4fa6-b742-d6d8f67f9791",
   "metadata": {
    "tags": []
   },
   "outputs": [
    {
     "name": "stdout",
     "output_type": "stream",
     "text": [
      "Columns with NaN values and their counts:\n",
      "Self_Employed       32\n",
      "LoanAmount          20\n",
      "Loan_Amount_Term    13\n",
      "Credit_History      49\n",
      "dtype: int64\n"
     ]
    }
   ],
   "source": [
    "# Check for NaN values in the DataFrame:\n",
    "nan_values = df.isna()\n",
    "\n",
    "# Count NaN values in each column:\n",
    "nan_counts = nan_values.sum()\n",
    "\n",
    "# Display columns with NaN values and their respective counts:\n",
    "print(\"Columns with NaN values and their counts:\")\n",
    "print(nan_counts[nan_counts > 0])\n"
   ]
  },
  {
   "cell_type": "code",
   "execution_count": 87,
   "id": "90581c78-9168-4069-9098-c21021dc1c64",
   "metadata": {
    "tags": []
   },
   "outputs": [],
   "source": [
    "# Calculate the median for each column:\n",
    "medians = df.median()\n",
    "\n",
    "# Replace NaN values with the respective column median:\n",
    "df.fillna(medians, inplace=True)"
   ]
  },
  {
   "cell_type": "code",
   "execution_count": 88,
   "id": "2bdd643b-3b95-46a9-84d1-b4203f31e611",
   "metadata": {
    "tags": []
   },
   "outputs": [
    {
     "name": "stdout",
     "output_type": "stream",
     "text": [
      "Columns with NaN values and their counts:\n",
      "Series([], dtype: int64)\n"
     ]
    }
   ],
   "source": [
    "# Check for NaN values in the DataFrame:\n",
    "nan_values = df.isna()\n",
    "\n",
    "# Count NaN values in each column:\n",
    "nan_counts = nan_values.sum()\n",
    "\n",
    "# Display columns with NaN values and their respective counts:\n",
    "print(\"Columns with NaN values and their counts:\")\n",
    "print(nan_counts[nan_counts > 0])\n"
   ]
  },
  {
   "cell_type": "code",
   "execution_count": 89,
   "id": "2be0893b-2f53-44a4-974a-faf690e14c26",
   "metadata": {
    "tags": []
   },
   "outputs": [
    {
     "data": {
      "text/plain": [
       "Gender               0\n",
       "Married              0\n",
       "Dependents           0\n",
       "Education            0\n",
       "Self_Employed        0\n",
       "ApplicantIncome      0\n",
       "CoapplicantIncome    0\n",
       "LoanAmount           0\n",
       "Loan_Amount_Term     0\n",
       "Credit_History       0\n",
       "Property_Area        0\n",
       "Loan_Status          0\n",
       "dtype: int64"
      ]
     },
     "execution_count": 89,
     "metadata": {},
     "output_type": "execute_result"
    }
   ],
   "source": [
    "df.isna().sum()"
   ]
  },
  {
   "cell_type": "markdown",
   "id": "d1324eb6-4a6e-4031-8d08-b2c207cafe79",
   "metadata": {
    "jp-MarkdownHeadingCollapsed": true,
    "tags": []
   },
   "source": [
    "# Part III: Modelling"
   ]
  },
  {
   "cell_type": "code",
   "execution_count": 90,
   "id": "fbe6edd1-662a-4894-9acd-b82696764c00",
   "metadata": {
    "tags": []
   },
   "outputs": [
    {
     "name": "stdout",
     "output_type": "stream",
     "text": [
      "<class 'pandas.core.frame.DataFrame'>\n",
      "Index: 586 entries, 0 to 613\n",
      "Data columns (total 12 columns):\n",
      " #   Column             Non-Null Count  Dtype  \n",
      "---  ------             --------------  -----  \n",
      " 0   Gender             586 non-null    float64\n",
      " 1   Married            586 non-null    float64\n",
      " 2   Dependents         586 non-null    float64\n",
      " 3   Education          586 non-null    float64\n",
      " 4   Self_Employed      586 non-null    float64\n",
      " 5   ApplicantIncome    586 non-null    int64  \n",
      " 6   CoapplicantIncome  586 non-null    float64\n",
      " 7   LoanAmount         586 non-null    float64\n",
      " 8   Loan_Amount_Term   586 non-null    float64\n",
      " 9   Credit_History     586 non-null    float64\n",
      " 10  Property_Area      586 non-null    float64\n",
      " 11  Loan_Status        586 non-null    float64\n",
      "dtypes: float64(11), int64(1)\n",
      "memory usage: 59.5 KB\n"
     ]
    }
   ],
   "source": [
    "df.info()"
   ]
  },
  {
   "cell_type": "code",
   "execution_count": 91,
   "id": "7c944223-7ae4-441e-8665-c70175d7dcac",
   "metadata": {
    "tags": []
   },
   "outputs": [
    {
     "data": {
      "text/plain": [
       "586"
      ]
     },
     "execution_count": 91,
     "metadata": {},
     "output_type": "execute_result"
    }
   ],
   "source": [
    "len(df)"
   ]
  },
  {
   "cell_type": "markdown",
   "id": "bad050f9-9252-4a46-b5d2-5caa796486ef",
   "metadata": {},
   "source": [
    "Estimators:\n",
    "* Logistic Regression\n",
    "* KNN\n",
    "* Random Forest\n",
    "* LinearSVC"
   ]
  },
  {
   "cell_type": "code",
   "execution_count": 98,
   "id": "46fa8bd2-f79c-4cf5-97ba-31686f3e0e17",
   "metadata": {
    "tags": []
   },
   "outputs": [],
   "source": [
    "# Split the data:\n",
    "X = df.drop('Loan_Status', axis=1)\n",
    "y = df['Loan_Status']\n",
    "\n",
    "# Split into training and test sets:\n",
    "X_train, X_test, y_train, y_test = train_test_split(X,\n",
    "                                                    y,\n",
    "                                                    test_size=0.3)\n",
    "\n"
   ]
  },
  {
   "cell_type": "code",
   "execution_count": 109,
   "id": "2a9cfd1c-8dd2-4b18-be78-e3c305623e7b",
   "metadata": {
    "tags": []
   },
   "outputs": [
    {
     "name": "stdout",
     "output_type": "stream",
     "text": [
      "Evaluating Logistic Regression:\n",
      "\n",
      "Training Accuracy: 0.80\n",
      "Test Accuracy: 0.82\n",
      "Precision: 0.82\n",
      "Recall: 0.96\n",
      "F1 Score: 0.88\n",
      "Confusion Matrix:\n",
      "[[ 26  26]\n",
      " [  5 119]]\n",
      "The model seems well-fitted. \n",
      "\n",
      "- \n",
      "\n",
      "Evaluating KNN:\n",
      "\n",
      "Training Accuracy: 0.74\n",
      "Test Accuracy: 0.65\n",
      "Precision: 0.72\n",
      "Recall: 0.83\n",
      "F1 Score: 0.77\n",
      "Confusion Matrix:\n",
      "[[ 12  40]\n",
      " [ 21 103]]\n",
      "The model seems well-fitted. \n",
      "\n",
      "- \n",
      "\n",
      "Evaluating Random Forest:\n",
      "\n",
      "Training Accuracy: 1.00\n",
      "Test Accuracy: 0.81\n",
      "Precision: 0.82\n",
      "Recall: 0.94\n",
      "F1 Score: 0.87\n",
      "Confusion Matrix:\n",
      "[[ 26  26]\n",
      " [  8 116]]\n",
      "The model might be overfitting. \n",
      "\n",
      "- \n",
      "\n",
      "Evaluating LinearSVC:\n",
      "\n",
      "Training Accuracy: 0.69\n",
      "Test Accuracy: 0.70\n",
      "Precision: 0.70\n",
      "Recall: 0.99\n",
      "F1 Score: 0.82\n",
      "Confusion Matrix:\n",
      "[[  0  52]\n",
      " [  1 123]]\n",
      "The model seems well-fitted. \n",
      "\n",
      "- \n",
      "\n"
     ]
    }
   ],
   "source": [
    "models = {\"Logistic Regression\": LogisticRegression(),\n",
    "          \"KNN\": KNeighborsClassifier(),\n",
    "          \"Random Forest\": RandomForestClassifier(),\n",
    "          \"LinearSVC\": LinearSVC()}\n",
    "\n",
    "def assess_classification_model(model, X_train, X_test, y_train, y_test):\n",
    "    \"\"\"\n",
    "    Evaluates a classification model using various metrics and prints the results.\n",
    "\n",
    "    Parameters:\n",
    "    - model (sklearn estimator): The classification model to be evaluated.\n",
    "    - x_train (array-like): The training data features.\n",
    "    - x_test (array-like): The testing data features.\n",
    "    - y_train (array-like): The training data labels.\n",
    "    - y_test (array-like): The testing data labels.\n",
    "\n",
    "    Returns:\n",
    "    - metrics_dict (dict): A dictionary containing the following classification metrics:\n",
    "        - \"Train Accuracy\" (float): The accuracy of the model on the training data.\n",
    "        - \"Test Accuracy\" (float): The accuracy of the model on the testing data.\n",
    "        - \"Precision\" (float): The precision of the model on the testing data.\n",
    "        - \"Recall\" (float): The recall of the model on the testing data.\n",
    "        - \"F1 Score\" (float): The F1 score of the model on the testing data.\n",
    "\n",
    "    This function fits the provided classification model to the training data,\n",
    "    calculates various classification metrics, and prints the results. It also\n",
    "    provides a dictionary containing these metrics for further analysis.\n",
    "    \"\"\"\n",
    "    # Fit the model and get predictions:\n",
    "    model.fit(X_train, y_train)\n",
    "    train_preds = model.predict(X_train)\n",
    "    test_preds = model.predict(X_test)\n",
    "\n",
    "    # Calculate scores for training and test sets:\n",
    "    train_accuracy = accuracy_score(y_train, train_preds)\n",
    "    test_accuracy = accuracy_score(y_test, test_preds)\n",
    "    precision = precision_score(y_test, test_preds)\n",
    "    recall = recall_score(y_test, test_preds)\n",
    "    f1 = f1_score(y_test, test_preds)\n",
    "    conf_matrix = confusion_matrix(y_test, test_preds)\n",
    "\n",
    "    # Print metrics:\n",
    "    print(f\"Training Accuracy: {train_accuracy:.2f}\")\n",
    "    print(f\"Test Accuracy: {test_accuracy:.2f}\")\n",
    "    print(f\"Precision: {precision:.2f}\")\n",
    "    print(f\"Recall: {recall:.2f}\")\n",
    "    print(f\"F1 Score: {f1:.2f}\")\n",
    "    print(\"Confusion Matrix:\")\n",
    "    print(conf_matrix)\n",
    "\n",
    "    # Comment on overfitting/underfitting:\n",
    "    if train_accuracy > test_accuracy + 0.1: # is the difference between training accuracy and testing accuracy  > 10%\n",
    "        print(\"The model might be overfitting.\",\"\\n\")\n",
    "    elif train_accuracy + 0.1 < test_accuracy:  # Model performs much better on test than train\n",
    "        print(\"This is unusual, check if the data sets were correctly used.\",\"\\n\")\n",
    "    elif train_accuracy < 0.6 and test_accuracy < 0.6:\n",
    "        print(\"The model might be underfitting.\",\"\\n\")\n",
    "    else:\n",
    "        print(\"The model seems well-fitted.\",\"\\n\")\n",
    "\n",
    "    # Return metrics as a dictionary:\n",
    "    metrics_dict = {\n",
    "        \"Train Accuracy\": train_accuracy,\n",
    "        \"Test Accuracy\": test_accuracy,\n",
    "        \"Precision\": precision,\n",
    "        \"Recall\": recall,\n",
    "        \"F1 Score\": f1\n",
    "    }\n",
    "\n",
    "    return metrics_dict\n",
    "\n",
    "# Plot metrics dict for graphing plots later:\n",
    "plot_dict = { }\n",
    "\n",
    "for name, model in models.items():\n",
    "    print(f\"Evaluating {name}:\\n\")\n",
    "    metrics = assess_classification_model(model, X_train, X_test, y_train, y_test)\n",
    "    print(\"-\",\"\\n\")\n",
    "    plot_dict[name] = metrics\n"
   ]
  },
  {
   "cell_type": "code",
   "execution_count": 111,
   "id": "63f4304b-28d8-4622-995d-3005d653a676",
   "metadata": {
    "tags": []
   },
   "outputs": [
    {
     "data": {
      "image/png": "[encoded data removed]",
      "text/plain": [
       "<Figure size 640x480 with 1 Axes>"
      ]
     },
     "metadata": {},
     "output_type": "display_data"
    }
   ],
   "source": [
    "# Extract metrics from plot_dict:\n",
    "metrics_to_plot = [\"Train Accuracy\", \"Test Accuracy\", \"Precision\", \"Recall\", \"F1 Score\"]\n",
    "models = list(plot_dict.keys())\n",
    "\n",
    "data = {metric: [plot_dict[model][metric] for model in models] for metric in metrics_to_plot}\n",
    "\n",
    "barWidth = 0.15\n",
    "r = np.arange(len(models))\n",
    "\n",
    "# Create bars:\n",
    "for i, metric in enumerate(metrics_to_plot):\n",
    "    plt.bar([x + i*barWidth for x in r], data[metric], width=barWidth, label=metric)\n",
    "\n",
    "# Title & subtitle:\n",
    "plt.title('Performance metrics across various models')\n",
    "plt.suptitle('Comparison of Train Accuracy, Test Accuracy, Precision, Recall, and F1 Score', fontsize=10)\n",
    "plt.xlabel('Models', fontweight='bold')\n",
    "plt.xticks([r + barWidth for r in range(len(models))], models)\n",
    "plt.ylabel('Score', fontweight='bold')\n",
    "plt.legend(loc='lower right')\n",
    "plt.tight_layout()\n",
    "plt.show()"
   ]
  },
  {
   "cell_type": "markdown",
   "id": "4acd8031-bd2a-4074-8d49-94b7ef9a7d0a",
   "metadata": {
    "jp-MarkdownHeadingCollapsed": true,
    "tags": []
   },
   "source": [
    "# Hyperparameter Tuning:"
   ]
  },
  {
   "cell_type": "code",
   "execution_count": 115,
   "id": "e59dc325-4f0b-4001-9fdc-cd950381b98d",
   "metadata": {
    "tags": []
   },
   "outputs": [
    {
     "name": "stdout",
     "output_type": "stream",
     "text": [
      "-\n",
      "Training score results:\n",
      "\n",
      "\n",
      "1.0\n",
      "0.8048780487804879\n",
      "0.7804878048780488\n",
      "0.7585365853658537\n",
      "0.7365853658536585\n",
      "0.7121951219512195\n",
      "0.7121951219512195\n",
      "0.6951219512195121\n",
      "0.7024390243902439\n",
      "0.7\n",
      "0.7121951219512195\n",
      "0.7024390243902439\n",
      "0.7\n",
      "0.7073170731707317\n",
      "0.7\n",
      "0.7146341463414634\n",
      "0.7024390243902439\n",
      "0.7097560975609756\n",
      "0.6951219512195121\n",
      "0.6902439024390243\n",
      "\n",
      "\n",
      "-\n",
      "Test score resutls:\n",
      "1.0\n",
      "0.8048780487804879\n",
      "0.7804878048780488\n",
      "0.7585365853658537\n",
      "0.7365853658536585\n",
      "0.7121951219512195\n",
      "0.7121951219512195\n",
      "0.6951219512195121\n",
      "0.7024390243902439\n",
      "0.7\n",
      "0.7121951219512195\n",
      "0.7024390243902439\n",
      "0.7\n",
      "0.7073170731707317\n",
      "0.7\n",
      "0.7146341463414634\n",
      "0.7024390243902439\n",
      "0.7097560975609756\n",
      "0.6951219512195121\n",
      "0.6902439024390243\n",
      "\n",
      "\n"
     ]
    }
   ],
   "source": [
    "# Tune KNN:\n",
    "\n",
    "train_scores = []\n",
    "test_scores = []\n",
    "\n",
    "# Create list of different values for n_neighbors i.e the number of time to loop:\n",
    "neighbors = range(1, 21)\n",
    "\n",
    "# Setup KNN instance:\n",
    "knn = KNeighborsClassifier()\n",
    "\n",
    "# Loop through different n_neighbors:\n",
    "for i in neighbors:\n",
    "    knn.set_params(n_neighbors=i)\n",
    "\n",
    "    # Fit model:\n",
    "    knn.fit(X_train, y_train)\n",
    "\n",
    "    # Update training score list:\n",
    "    train_scores.append(knn.score(X_train, y_train))\n",
    "\n",
    "    # Update test scores list:\n",
    "    test_scores.append(knn.score(X_test, y_test))\n",
    "\n",
    "# Visual inpection of results:\n",
    "print(\"-\")\n",
    "\n",
    "print(f\"Training score results:\")\n",
    "print(\"\\n\")\n",
    "for score in train_scores:\n",
    "    print(score)\n",
    "print(\"\\n\")\n",
    "\n",
    "print(\"-\")\n",
    "\n",
    "print(f\"Test score resutls:\")\n",
    "for score in train_scores:\n",
    "    print(score)\n",
    "print(\"\\n\")"
   ]
  },
  {
   "cell_type": "code",
   "execution_count": 116,
   "id": "fe447849-99e8-41f9-ba06-db09606056c6",
   "metadata": {
    "tags": []
   },
   "outputs": [
    {
     "data": {
      "image/png": "[encoded data removed]",
      "text/plain": [
       "<Figure size 640x480 with 1 Axes>"
      ]
     },
     "metadata": {},
     "output_type": "display_data"
    },
    {
     "name": "stdout",
     "output_type": "stream",
     "text": [
      "\n",
      "\n",
      "Maximum KNN score for test data: 70.45%\n"
     ]
    }
   ],
   "source": [
    "# Visualize the above:\n",
    "plt.plot(neighbors, train_scores, label=\"Train score\")\n",
    "plt.plot(neighbors, test_scores, label=\"Test score\")\n",
    "plt.xticks(np.arange(1, 21, 1))\n",
    "plt.xlabel(\"Number of neighbors\")\n",
    "plt.ylabel(\"Model score\")\n",
    "plt.legend()\n",
    "plt.show()\n",
    "print(\"\\n\")\n",
    "print(f\"Maximum KNN score for test data: {max(test_scores)*100:.2f}%\")"
   ]
  },
  {
   "cell_type": "markdown",
   "id": "0b8201be-5839-412e-ae6b-4ff2678022b9",
   "metadata": {},
   "source": [
    "Observation:\n",
    "* I have improved the KNN from 65.00% --> 70.45%, a 5,45% increase "
   ]
  },
  {
   "cell_type": "code",
   "execution_count": 118,
   "id": "9aa6a55b-9dbe-48a1-b317-b321377d3b0d",
   "metadata": {
    "tags": []
   },
   "outputs": [
    {
     "name": "stdout",
     "output_type": "stream",
     "text": [
      "\n",
      "\n",
      "Fitting 5 folds for each of 20 candidates, totalling 100 fits\n"
     ]
    },
    {
     "data": {
      "text/html": [
       "<style>#sk-container-id-1 {color: black;}#sk-container-id-1 pre{padding: 0;}#sk-container-id-1 div.sk-toggleable {background-color: white;}#sk-container-id-1 label.sk-toggleable__label {cursor: pointer;display: block;width: 100%;margin-bottom: 0;padding: 0.3em;box-sizing: border-box;text-align: center;}#sk-container-id-1 label.sk-toggleable__label-arrow:before {content: \"▸\";float: left;margin-right: 0.25em;color: #696969;}#sk-container-id-1 label.sk-toggleable__label-arrow:hover:before {color: black;}#sk-container-id-1 div.sk-estimator:hover label.sk-toggleable__label-arrow:before {color: black;}#sk-container-id-1 div.sk-toggleable__content {max-height: 0;max-width: 0;overflow: hidden;text-align: left;background-color: #f0f8ff;}#sk-container-id-1 div.sk-toggleable__content pre {margin: 0.2em;color: black;border-radius: 0.25em;background-color: #f0f8ff;}#sk-container-id-1 input.sk-toggleable__control:checked~div.sk-toggleable__content {max-height: 200px;max-width: 100%;overflow: auto;}#sk-container-id-1 input.sk-toggleable__control:checked~label.sk-toggleable__label-arrow:before {content: \"▾\";}#sk-container-id-1 div.sk-estimator input.sk-toggleable__control:checked~label.sk-toggleable__label {background-color: #d4ebff;}#sk-container-id-1 div.sk-label input.sk-toggleable__control:checked~label.sk-toggleable__label {background-color: #d4ebff;}#sk-container-id-1 input.sk-hidden--visually {border: 0;clip: rect(1px 1px 1px 1px);clip: rect(1px, 1px, 1px, 1px);height: 1px;margin: -1px;overflow: hidden;padding: 0;position: absolute;width: 1px;}#sk-container-id-1 div.sk-estimator {font-family: monospace;background-color: #f0f8ff;border: 1px dotted black;border-radius: 0.25em;box-sizing: border-box;margin-bottom: 0.5em;}#sk-container-id-1 div.sk-estimator:hover {background-color: #d4ebff;}#sk-container-id-1 div.sk-parallel-item::after {content: \"\";width: 100%;border-bottom: 1px solid gray;flex-grow: 1;}#sk-container-id-1 div.sk-label:hover label.sk-toggleable__label {background-color: #d4ebff;}#sk-container-id-1 div.sk-serial::before {content: \"\";position: absolute;border-left: 1px solid gray;box-sizing: border-box;top: 0;bottom: 0;left: 50%;z-index: 0;}#sk-container-id-1 div.sk-serial {display: flex;flex-direction: column;align-items: center;background-color: white;padding-right: 0.2em;padding-left: 0.2em;position: relative;}#sk-container-id-1 div.sk-item {position: relative;z-index: 1;}#sk-container-id-1 div.sk-parallel {display: flex;align-items: stretch;justify-content: center;background-color: white;position: relative;}#sk-container-id-1 div.sk-item::before, #sk-container-id-1 div.sk-parallel-item::before {content: \"\";position: absolute;border-left: 1px solid gray;box-sizing: border-box;top: 0;bottom: 0;left: 50%;z-index: -1;}#sk-container-id-1 div.sk-parallel-item {display: flex;flex-direction: column;z-index: 1;position: relative;background-color: white;}#sk-container-id-1 div.sk-parallel-item:first-child::after {align-self: flex-end;width: 50%;}#sk-container-id-1 div.sk-parallel-item:last-child::after {align-self: flex-start;width: 50%;}#sk-container-id-1 div.sk-parallel-item:only-child::after {width: 0;}#sk-container-id-1 div.sk-dashed-wrapped {border: 1px dashed gray;margin: 0 0.4em 0.5em 0.4em;box-sizing: border-box;padding-bottom: 0.4em;background-color: white;}#sk-container-id-1 div.sk-label label {font-family: monospace;font-weight: bold;display: inline-block;line-height: 1.2em;}#sk-container-id-1 div.sk-label-container {text-align: center;}#sk-container-id-1 div.sk-container {/* jupyter's `normalize.less` sets `[hidden] { display: none; }` but bootstrap.min.css set `[hidden] { display: none !important; }` so we also need the `!important` here to be able to override the default hidden behavior on the sphinx rendered scikit-learn.org. See: https://github.com/scikit-learn/scikit-learn/issues/21755 */display: inline-block !important;position: relative;}#sk-container-id-1 div.sk-text-repr-fallback {display: none;}</style><div id=\"sk-container-id-1\" class=\"sk-top-container\"><div class=\"sk-text-repr-fallback\"><pre>RandomizedSearchCV(cv=5, estimator=LogisticRegression(), n_iter=20,\n",
       "                   param_distributions={&#x27;C&#x27;: array([1.00000000e-04, 2.63665090e-04, 6.95192796e-04, 1.83298071e-03,\n",
       "       4.83293024e-03, 1.27427499e-02, 3.35981829e-02, 8.85866790e-02,\n",
       "       2.33572147e-01, 6.15848211e-01, 1.62377674e+00, 4.28133240e+00,\n",
       "       1.12883789e+01, 2.97635144e+01, 7.84759970e+01, 2.06913808e+02,\n",
       "       5.45559478e+02, 1.43844989e+03, 3.79269019e+03, 1.00000000e+04]),\n",
       "                                        &#x27;solver&#x27;: [&#x27;liblinear&#x27;]},\n",
       "                   verbose=True)</pre><b>In a Jupyter environment, please rerun this cell to show the HTML representation or trust the notebook. <br />On GitHub, the HTML representation is unable to render, please try loading this page with nbviewer.org.</b></div><div class=\"sk-container\" hidden><div class=\"sk-item sk-dashed-wrapped\"><div class=\"sk-label-container\"><div class=\"sk-label sk-toggleable\"><input class=\"sk-toggleable__control sk-hidden--visually\" id=\"sk-estimator-id-1\" type=\"checkbox\" ><label for=\"sk-estimator-id-1\" class=\"sk-toggleable__label sk-toggleable__label-arrow\">RandomizedSearchCV</label><div class=\"sk-toggleable__content\"><pre>RandomizedSearchCV(cv=5, estimator=LogisticRegression(), n_iter=20,\n",
       "                   param_distributions={&#x27;C&#x27;: array([1.00000000e-04, 2.63665090e-04, 6.95192796e-04, 1.83298071e-03,\n",
       "       4.83293024e-03, 1.27427499e-02, 3.35981829e-02, 8.85866790e-02,\n",
       "       2.33572147e-01, 6.15848211e-01, 1.62377674e+00, 4.28133240e+00,\n",
       "       1.12883789e+01, 2.97635144e+01, 7.84759970e+01, 2.06913808e+02,\n",
       "       5.45559478e+02, 1.43844989e+03, 3.79269019e+03, 1.00000000e+04]),\n",
       "                                        &#x27;solver&#x27;: [&#x27;liblinear&#x27;]},\n",
       "                   verbose=True)</pre></div></div></div><div class=\"sk-parallel\"><div class=\"sk-parallel-item\"><div class=\"sk-item\"><div class=\"sk-label-container\"><div class=\"sk-label sk-toggleable\"><input class=\"sk-toggleable__control sk-hidden--visually\" id=\"sk-estimator-id-2\" type=\"checkbox\" ><label for=\"sk-estimator-id-2\" class=\"sk-toggleable__label sk-toggleable__label-arrow\">estimator: LogisticRegression</label><div class=\"sk-toggleable__content\"><pre>LogisticRegression()</pre></div></div></div><div class=\"sk-serial\"><div class=\"sk-item\"><div class=\"sk-estimator sk-toggleable\"><input class=\"sk-toggleable__control sk-hidden--visually\" id=\"sk-estimator-id-3\" type=\"checkbox\" ><label for=\"sk-estimator-id-3\" class=\"sk-toggleable__label sk-toggleable__label-arrow\">LogisticRegression</label><div class=\"sk-toggleable__content\"><pre>LogisticRegression()</pre></div></div></div></div></div></div></div></div></div></div>"
      ],
      "text/plain": [
       "RandomizedSearchCV(cv=5, estimator=LogisticRegression(), n_iter=20,\n",
       "                   param_distributions={'C': array([1.00000000e-04, 2.63665090e-04, 6.95192796e-04, 1.83298071e-03,\n",
       "       4.83293024e-03, 1.27427499e-02, 3.35981829e-02, 8.85866790e-02,\n",
       "       2.33572147e-01, 6.15848211e-01, 1.62377674e+00, 4.28133240e+00,\n",
       "       1.12883789e+01, 2.97635144e+01, 7.84759970e+01, 2.06913808e+02,\n",
       "       5.45559478e+02, 1.43844989e+03, 3.79269019e+03, 1.00000000e+04]),\n",
       "                                        'solver': ['liblinear']},\n",
       "                   verbose=True)"
      ]
     },
     "execution_count": 118,
     "metadata": {},
     "output_type": "execute_result"
    }
   ],
   "source": [
    "# Tune Logistic Regression:\n",
    "\n",
    "# Create hyperparameter grid for logistic regression:\n",
    "logistic_regression_grid = {\"C\": np.logspace(-4, 4, 20),\n",
    "                \"solver\": [\"liblinear\"]}\n",
    "\n",
    "# Random seed:\n",
    "np.random.seed(42)\n",
    "\n",
    "# Setup random hyperparameter search:\n",
    "rs_log_reg = RandomizedSearchCV(LogisticRegression(),\n",
    "                                 param_distributions=logistic_regression_grid,\n",
    "                                 cv=5,\n",
    "                                 n_iter=20,\n",
    "                                 verbose=True)\n",
    "\n",
    "# Fit random hyperparameter search model:\n",
    "print(\"\\n\")\n",
    "rs_log_reg.fit(X_train, y_train)"
   ]
  },
  {
   "cell_type": "code",
   "execution_count": 120,
   "id": "e0b94f5f-c898-49b4-86af-283846436f27",
   "metadata": {
    "tags": []
   },
   "outputs": [
    {
     "name": "stdout",
     "output_type": "stream",
     "text": [
      "Observation: The best hyperparameters parameters:  {'solver': 'liblinear', 'C': 0.23357214690901212}\n",
      "Observation: Accuracy score:  0.8181818181818182\n"
     ]
    }
   ],
   "source": [
    "# find best hyperparameters & accuracy score\n",
    "print(f\"Observation: The best hyperparameters parameters: \",rs_log_reg.best_params_)\n",
    "print(f\"Observation: Accuracy score: \",rs_log_reg.score(X_test,y_test))"
   ]
  },
  {
   "cell_type": "code",
   "execution_count": 122,
   "id": "8736279b-28e3-471c-bc49-ff796be63048",
   "metadata": {
    "tags": []
   },
   "outputs": [
    {
     "name": "stdout",
     "output_type": "stream",
     "text": [
      "\n",
      "\n"
     ]
    },
    {
     "data": {
      "text/html": [
       "<style>#sk-container-id-2 {color: black;}#sk-container-id-2 pre{padding: 0;}#sk-container-id-2 div.sk-toggleable {background-color: white;}#sk-container-id-2 label.sk-toggleable__label {cursor: pointer;display: block;width: 100%;margin-bottom: 0;padding: 0.3em;box-sizing: border-box;text-align: center;}#sk-container-id-2 label.sk-toggleable__label-arrow:before {content: \"▸\";float: left;margin-right: 0.25em;color: #696969;}#sk-container-id-2 label.sk-toggleable__label-arrow:hover:before {color: black;}#sk-container-id-2 div.sk-estimator:hover label.sk-toggleable__label-arrow:before {color: black;}#sk-container-id-2 div.sk-toggleable__content {max-height: 0;max-width: 0;overflow: hidden;text-align: left;background-color: #f0f8ff;}#sk-container-id-2 div.sk-toggleable__content pre {margin: 0.2em;color: black;border-radius: 0.25em;background-color: #f0f8ff;}#sk-container-id-2 input.sk-toggleable__control:checked~div.sk-toggleable__content {max-height: 200px;max-width: 100%;overflow: auto;}#sk-container-id-2 input.sk-toggleable__control:checked~label.sk-toggleable__label-arrow:before {content: \"▾\";}#sk-container-id-2 div.sk-estimator input.sk-toggleable__control:checked~label.sk-toggleable__label {background-color: #d4ebff;}#sk-container-id-2 div.sk-label input.sk-toggleable__control:checked~label.sk-toggleable__label {background-color: #d4ebff;}#sk-container-id-2 input.sk-hidden--visually {border: 0;clip: rect(1px 1px 1px 1px);clip: rect(1px, 1px, 1px, 1px);height: 1px;margin: -1px;overflow: hidden;padding: 0;position: absolute;width: 1px;}#sk-container-id-2 div.sk-estimator {font-family: monospace;background-color: #f0f8ff;border: 1px dotted black;border-radius: 0.25em;box-sizing: border-box;margin-bottom: 0.5em;}#sk-container-id-2 div.sk-estimator:hover {background-color: #d4ebff;}#sk-container-id-2 div.sk-parallel-item::after {content: \"\";width: 100%;border-bottom: 1px solid gray;flex-grow: 1;}#sk-container-id-2 div.sk-label:hover label.sk-toggleable__label {background-color: #d4ebff;}#sk-container-id-2 div.sk-serial::before {content: \"\";position: absolute;border-left: 1px solid gray;box-sizing: border-box;top: 0;bottom: 0;left: 50%;z-index: 0;}#sk-container-id-2 div.sk-serial {display: flex;flex-direction: column;align-items: center;background-color: white;padding-right: 0.2em;padding-left: 0.2em;position: relative;}#sk-container-id-2 div.sk-item {position: relative;z-index: 1;}#sk-container-id-2 div.sk-parallel {display: flex;align-items: stretch;justify-content: center;background-color: white;position: relative;}#sk-container-id-2 div.sk-item::before, #sk-container-id-2 div.sk-parallel-item::before {content: \"\";position: absolute;border-left: 1px solid gray;box-sizing: border-box;top: 0;bottom: 0;left: 50%;z-index: -1;}#sk-container-id-2 div.sk-parallel-item {display: flex;flex-direction: column;z-index: 1;position: relative;background-color: white;}#sk-container-id-2 div.sk-parallel-item:first-child::after {align-self: flex-end;width: 50%;}#sk-container-id-2 div.sk-parallel-item:last-child::after {align-self: flex-start;width: 50%;}#sk-container-id-2 div.sk-parallel-item:only-child::after {width: 0;}#sk-container-id-2 div.sk-dashed-wrapped {border: 1px dashed gray;margin: 0 0.4em 0.5em 0.4em;box-sizing: border-box;padding-bottom: 0.4em;background-color: white;}#sk-container-id-2 div.sk-label label {font-family: monospace;font-weight: bold;display: inline-block;line-height: 1.2em;}#sk-container-id-2 div.sk-label-container {text-align: center;}#sk-container-id-2 div.sk-container {/* jupyter's `normalize.less` sets `[hidden] { display: none; }` but bootstrap.min.css set `[hidden] { display: none !important; }` so we also need the `!important` here to be able to override the default hidden behavior on the sphinx rendered scikit-learn.org. See: https://github.com/scikit-learn/scikit-learn/issues/21755 */display: inline-block !important;position: relative;}#sk-container-id-2 div.sk-text-repr-fallback {display: none;}</style><div id=\"sk-container-id-2\" class=\"sk-top-container\"><div class=\"sk-text-repr-fallback\"><pre>RandomizedSearchCV(cv=5, estimator=LinearSVC(), n_iter=100,\n",
       "                   param_distributions={&#x27;C&#x27;: array([1.e-03, 1.e-02, 1.e-01, 1.e+00, 1.e+01, 1.e+02, 1.e+03]),\n",
       "                                        &#x27;max_iter&#x27;: [100, 500, 990]},\n",
       "                   random_state=33, scoring=&#x27;accuracy&#x27;)</pre><b>In a Jupyter environment, please rerun this cell to show the HTML representation or trust the notebook. <br />On GitHub, the HTML representation is unable to render, please try loading this page with nbviewer.org.</b></div><div class=\"sk-container\" hidden><div class=\"sk-item sk-dashed-wrapped\"><div class=\"sk-label-container\"><div class=\"sk-label sk-toggleable\"><input class=\"sk-toggleable__control sk-hidden--visually\" id=\"sk-estimator-id-4\" type=\"checkbox\" ><label for=\"sk-estimator-id-4\" class=\"sk-toggleable__label sk-toggleable__label-arrow\">RandomizedSearchCV</label><div class=\"sk-toggleable__content\"><pre>RandomizedSearchCV(cv=5, estimator=LinearSVC(), n_iter=100,\n",
       "                   param_distributions={&#x27;C&#x27;: array([1.e-03, 1.e-02, 1.e-01, 1.e+00, 1.e+01, 1.e+02, 1.e+03]),\n",
       "                                        &#x27;max_iter&#x27;: [100, 500, 990]},\n",
       "                   random_state=33, scoring=&#x27;accuracy&#x27;)</pre></div></div></div><div class=\"sk-parallel\"><div class=\"sk-parallel-item\"><div class=\"sk-item\"><div class=\"sk-label-container\"><div class=\"sk-label sk-toggleable\"><input class=\"sk-toggleable__control sk-hidden--visually\" id=\"sk-estimator-id-5\" type=\"checkbox\" ><label for=\"sk-estimator-id-5\" class=\"sk-toggleable__label sk-toggleable__label-arrow\">estimator: LinearSVC</label><div class=\"sk-toggleable__content\"><pre>LinearSVC()</pre></div></div></div><div class=\"sk-serial\"><div class=\"sk-item\"><div class=\"sk-estimator sk-toggleable\"><input class=\"sk-toggleable__control sk-hidden--visually\" id=\"sk-estimator-id-6\" type=\"checkbox\" ><label for=\"sk-estimator-id-6\" class=\"sk-toggleable__label sk-toggleable__label-arrow\">LinearSVC</label><div class=\"sk-toggleable__content\"><pre>LinearSVC()</pre></div></div></div></div></div></div></div></div></div></div>"
      ],
      "text/plain": [
       "RandomizedSearchCV(cv=5, estimator=LinearSVC(), n_iter=100,\n",
       "                   param_distributions={'C': array([1.e-03, 1.e-02, 1.e-01, 1.e+00, 1.e+01, 1.e+02, 1.e+03]),\n",
       "                                        'max_iter': [100, 500, 990]},\n",
       "                   random_state=33, scoring='accuracy')"
      ]
     },
     "execution_count": 122,
     "metadata": {},
     "output_type": "execute_result"
    }
   ],
   "source": [
    "# Tune Linear SVC:\n",
    "\n",
    "# Create linear svc instance:\n",
    "svc = LinearSVC()\n",
    "\n",
    "# Define hyperparameter search space as dictionary:\n",
    "param_dist = {\n",
    "    'C': np.logspace(-3, 3, 7),\n",
    "    'max_iter': [100, 500, 990]\n",
    "}\n",
    "\n",
    "# Create the RandomizedSearchCV object:\n",
    "random_search_svc = RandomizedSearchCV(\n",
    "    svc,\n",
    "    param_distributions=param_dist,\n",
    "    n_iter=100,\n",
    "    cv=5,\n",
    "    scoring='accuracy',\n",
    "    random_state=33\n",
    ")\n",
    "\n",
    "# Fit random hyperparameter search model:\n",
    "print(\"\\n\")\n",
    "random_search_svc.fit(X_train, y_train)"
   ]
  },
  {
   "cell_type": "code",
   "execution_count": 123,
   "id": "a3722daf-20a9-4966-b582-2bdf422eae96",
   "metadata": {
    "tags": []
   },
   "outputs": [
    {
     "name": "stdout",
     "output_type": "stream",
     "text": [
      "Observation: The best hyperparameters parameters:  {'max_iter': 990, 'C': 100.0}\n",
      "Observation: Accuracy score:  0.6988636363636364\n"
     ]
    }
   ],
   "source": [
    "# Find best hyperparameters & accuracy scores:\n",
    "print(f\"Observation: The best hyperparameters parameters: \",random_search_svc.best_params_)\n",
    "print(f\"Observation: Accuracy score: \",random_search_svc.score(X_test,y_test))"
   ]
  },
  {
   "cell_type": "markdown",
   "id": "121105da-b4d8-42e8-b3f2-b84cdd938a66",
   "metadata": {},
   "source": [
    "Moving forward with `Logistic Regression Estimator`."
   ]
  },
  {
   "cell_type": "markdown",
   "id": "ddff56d8-95b7-420c-b190-1972a941e228",
   "metadata": {
    "jp-MarkdownHeadingCollapsed": true,
    "tags": []
   },
   "source": [
    "# Model Evaluation:\n",
    "> Evaluate Logistic Regression with the following:\n",
    "* ROC Curve and AUC Score\n",
    "* Confusion Matrix\n",
    "* Precsion, Recall, F1 Score"
   ]
  },
  {
   "cell_type": "code",
   "execution_count": 124,
   "id": "53e98cc5-7b85-48de-b0c3-1e6b3dfbead7",
   "metadata": {
    "tags": []
   },
   "outputs": [],
   "source": [
    "# Predicting with Logistic Regression Estimator:\n",
    "\n",
    "y_preds = rs_log_reg.predict(X_test)"
   ]
  },
  {
   "cell_type": "code",
   "execution_count": 125,
   "id": "c4408a0a-812b-484d-8005-92121af4bfb6",
   "metadata": {
    "tags": []
   },
   "outputs": [
    {
     "data": {
      "image/png": "[encoded data removed]",
      "text/plain": [
       "<Figure size 640x480 with 1 Axes>"
      ]
     },
     "metadata": {},
     "output_type": "display_data"
    }
   ],
   "source": [
    "# ROC Curve and AUC Score:\n",
    "RocCurveDisplay.from_estimator(estimator=rs_log_reg,\n",
    "                               X=X_test,\n",
    "                               y=y_test)\n",
    "\n",
    "plt.show()"
   ]
  },
  {
   "cell_type": "code",
   "execution_count": 126,
   "id": "7b810be8-04b3-4338-96b3-7b583b05be67",
   "metadata": {
    "tags": []
   },
   "outputs": [
    {
     "name": "stdout",
     "output_type": "stream",
     "text": [
      "\n",
      "\n"
     ]
    },
    {
     "data": {
      "image/png": "[encoded data removed]",
      "text/plain": [
       "<Figure size 500x500 with 1 Axes>"
      ]
     },
     "metadata": {},
     "output_type": "display_data"
    }
   ],
   "source": [
    "# Create confusion matrix with Seaborn:\n",
    "sns.set(font_scale=2)\n",
    "\n",
    "def plot_confusion_matrix(y_true, y_preds):\n",
    "    \"\"\"\n",
    "    Plot confusion matrix with a Seaborn heatmap.\n",
    "    \"\"\"\n",
    "    fig, ax = plt.subplots(figsize=(5, 5))\n",
    "    ax = sns.heatmap(confusion_matrix(y_true, y_preds),\n",
    "                     annot=True,\n",
    "                     fmt=\"d\",\n",
    "                     cmap=\"Reds\",\n",
    "                     cbar=False)\n",
    "    plt.xlabel(\"Predicted Label\")\n",
    "    plt.ylabel(\"True Label\")\n",
    "    plt.show()\n",
    "    \n",
    "print(\"\\n\")\n",
    "plot_confusion_matrix(y_test, y_preds)"
   ]
  },
  {
   "cell_type": "code",
   "execution_count": 127,
   "id": "974125c6-425f-4c15-b492-8aa8e72d9008",
   "metadata": {
    "tags": []
   },
   "outputs": [
    {
     "name": "stdout",
     "output_type": "stream",
     "text": [
      "              precision    recall  f1-score   support\n",
      "\n",
      "         0.0       0.83      0.48      0.61        52\n",
      "         1.0       0.82      0.96      0.88       124\n",
      "\n",
      "    accuracy                           0.82       176\n",
      "   macro avg       0.82      0.72      0.75       176\n",
      "weighted avg       0.82      0.82      0.80       176\n",
      "\n"
     ]
    }
   ],
   "source": [
    "# Classification report:\n",
    "\n",
    "print(classification_report(y_test, y_preds))"
   ]
  },
  {
   "cell_type": "code",
   "execution_count": 128,
   "id": "d652c859-404d-49b0-a371-7549e849c5fc",
   "metadata": {
    "tags": []
   },
   "outputs": [
    {
     "data": {
      "text/plain": [
       "{'solver': 'liblinear', 'C': 0.23357214690901212}"
      ]
     },
     "execution_count": 128,
     "metadata": {},
     "output_type": "execute_result"
    }
   ],
   "source": [
    "# Find the best parameters:\n",
    "rs_log_reg.best_params_"
   ]
  },
  {
   "cell_type": "code",
   "execution_count": 132,
   "id": "b4c272ea-2921-4db3-96a3-41c88a6a51cc",
   "metadata": {
    "tags": []
   },
   "outputs": [],
   "source": [
    "# New Logistic Regression Model using the best params:\n",
    "\n",
    "clf = LogisticRegression(solver='liblinear',\n",
    "                         C=0.23357214690901212)"
   ]
  },
  {
   "cell_type": "code",
   "execution_count": 133,
   "id": "0bb395d8-b2ec-4aac-8cf5-2c694c6de3c8",
   "metadata": {
    "tags": []
   },
   "outputs": [
    {
     "data": {
      "text/plain": [
       "array([0.76829268, 0.7804878 , 0.79268293, 0.81707317, 0.82926829])"
      ]
     },
     "execution_count": 133,
     "metadata": {},
     "output_type": "execute_result"
    }
   ],
   "source": [
    "# Cross validation for accuracy:\n",
    "\n",
    "cross_validated_accuracy = cross_val_score(clf,\n",
    "                                           X_train,\n",
    "                                           y_train,\n",
    "                                           cv=5,\n",
    "                                           scoring='accuracy')\n",
    "cross_validated_accuracy"
   ]
  },
  {
   "cell_type": "code",
   "execution_count": 134,
   "id": "524f1528-9302-44b9-934b-a0c9eb1d5e9f",
   "metadata": {
    "tags": []
   },
   "outputs": [
    {
     "data": {
      "text/plain": [
       "0.7975609756097561"
      ]
     },
     "execution_count": 134,
     "metadata": {},
     "output_type": "execute_result"
    }
   ],
   "source": [
    "cross_validated_accuracy = np.mean(cross_validated_accuracy)\n",
    "cross_validated_accuracy"
   ]
  },
  {
   "cell_type": "code",
   "execution_count": 135,
   "id": "1815cc06-af21-405b-9d46-bb9b60f4b43f",
   "metadata": {
    "tags": []
   },
   "outputs": [
    {
     "data": {
      "text/plain": [
       "0.7815790946225729"
      ]
     },
     "execution_count": 135,
     "metadata": {},
     "output_type": "execute_result"
    }
   ],
   "source": [
    "# Cross validation precision:\n",
    "cross_validated_precision = cross_val_score(clf,\n",
    "                                            X_train,\n",
    "                                            y_train,\n",
    "                                            cv=5,\n",
    "                                            scoring=\"precision\")\n",
    "cross_validated_precision = np.mean(cross_validated_precision)\n",
    "cross_validated_precision"
   ]
  },
  {
   "cell_type": "code",
   "execution_count": 136,
   "id": "b88c13ec-94b6-4fd3-baf2-ae15a4df2c23",
   "metadata": {
    "tags": []
   },
   "outputs": [
    {
     "data": {
      "text/plain": [
       "0.9786340852130326"
      ]
     },
     "execution_count": 136,
     "metadata": {},
     "output_type": "execute_result"
    }
   ],
   "source": [
    "# Cross validation recall:\n",
    "cross_validated_recall = cross_val_score(clf,\n",
    "                                         X_train,\n",
    "                                         y_train,\n",
    "                                         cv=5,\n",
    "                                         scoring=\"recall\")\n",
    "cross_validated_recall = np.mean(cross_validated_recall)\n",
    "cross_validated_recall"
   ]
  },
  {
   "cell_type": "code",
   "execution_count": 137,
   "id": "fe57e29b-252b-47fb-afc3-6fa7315811f9",
   "metadata": {
    "tags": []
   },
   "outputs": [
    {
     "data": {
      "text/plain": [
       "0.868998715618563"
      ]
     },
     "execution_count": 137,
     "metadata": {},
     "output_type": "execute_result"
    }
   ],
   "source": [
    "# Cross validation f1-score:\n",
    "cross_validated_f1 = cross_val_score(clf,\n",
    "                                    X_train,\n",
    "                                    y_train,\n",
    "                                    cv=5,\n",
    "                                    scoring=\"f1\")\n",
    "cross_validated_f1 = np.mean(cross_validated_f1)\n",
    "cross_validated_f1"
   ]
  },
  {
   "cell_type": "code",
   "execution_count": 138,
   "id": "2c1cf77b-c978-4f42-926d-6a44a8549e1f",
   "metadata": {
    "tags": []
   },
   "outputs": [
    {
     "data": {
      "image/png": "[encoded data removed]",
      "text/plain": [
       "<Figure size 640x480 with 1 Axes>"
      ]
     },
     "metadata": {},
     "output_type": "display_data"
    }
   ],
   "source": [
    "# Visualize the CV metrics:\n",
    "\n",
    "cross_validated_metrics = pd.DataFrame({\"Accuracy\": cross_validated_accuracy,\n",
    "                                        \"Precision\": cross_validated_precision,\n",
    "                                        \"Recall\": cross_validated_recall,\n",
    "                                        \"F1\": cross_validated_f1},\n",
    "                                       index=[0])\n",
    "cross_validated_metrics.T.plot.bar(title=\"Cross-validated classification metrics\",\n",
    "                                   legend=False);\n",
    "plt.show()"
   ]
  },
  {
   "cell_type": "markdown",
   "id": "419e1cda-307e-43d7-b8b3-d86f5a51a2ab",
   "metadata": {},
   "source": [
    "Feature Importance:"
   ]
  },
  {
   "cell_type": "code",
   "execution_count": 140,
   "id": "f5e04f45-7633-4d42-a3e6-cb6666446a2d",
   "metadata": {
    "tags": []
   },
   "outputs": [
    {
     "data": {
      "text/html": [
       "<style>#sk-container-id-3 {color: black;}#sk-container-id-3 pre{padding: 0;}#sk-container-id-3 div.sk-toggleable {background-color: white;}#sk-container-id-3 label.sk-toggleable__label {cursor: pointer;display: block;width: 100%;margin-bottom: 0;padding: 0.3em;box-sizing: border-box;text-align: center;}#sk-container-id-3 label.sk-toggleable__label-arrow:before {content: \"▸\";float: left;margin-right: 0.25em;color: #696969;}#sk-container-id-3 label.sk-toggleable__label-arrow:hover:before {color: black;}#sk-container-id-3 div.sk-estimator:hover label.sk-toggleable__label-arrow:before {color: black;}#sk-container-id-3 div.sk-toggleable__content {max-height: 0;max-width: 0;overflow: hidden;text-align: left;background-color: #f0f8ff;}#sk-container-id-3 div.sk-toggleable__content pre {margin: 0.2em;color: black;border-radius: 0.25em;background-color: #f0f8ff;}#sk-container-id-3 input.sk-toggleable__control:checked~div.sk-toggleable__content {max-height: 200px;max-width: 100%;overflow: auto;}#sk-container-id-3 input.sk-toggleable__control:checked~label.sk-toggleable__label-arrow:before {content: \"▾\";}#sk-container-id-3 div.sk-estimator input.sk-toggleable__control:checked~label.sk-toggleable__label {background-color: #d4ebff;}#sk-container-id-3 div.sk-label input.sk-toggleable__control:checked~label.sk-toggleable__label {background-color: #d4ebff;}#sk-container-id-3 input.sk-hidden--visually {border: 0;clip: rect(1px 1px 1px 1px);clip: rect(1px, 1px, 1px, 1px);height: 1px;margin: -1px;overflow: hidden;padding: 0;position: absolute;width: 1px;}#sk-container-id-3 div.sk-estimator {font-family: monospace;background-color: #f0f8ff;border: 1px dotted black;border-radius: 0.25em;box-sizing: border-box;margin-bottom: 0.5em;}#sk-container-id-3 div.sk-estimator:hover {background-color: #d4ebff;}#sk-container-id-3 div.sk-parallel-item::after {content: \"\";width: 100%;border-bottom: 1px solid gray;flex-grow: 1;}#sk-container-id-3 div.sk-label:hover label.sk-toggleable__label {background-color: #d4ebff;}#sk-container-id-3 div.sk-serial::before {content: \"\";position: absolute;border-left: 1px solid gray;box-sizing: border-box;top: 0;bottom: 0;left: 50%;z-index: 0;}#sk-container-id-3 div.sk-serial {display: flex;flex-direction: column;align-items: center;background-color: white;padding-right: 0.2em;padding-left: 0.2em;position: relative;}#sk-container-id-3 div.sk-item {position: relative;z-index: 1;}#sk-container-id-3 div.sk-parallel {display: flex;align-items: stretch;justify-content: center;background-color: white;position: relative;}#sk-container-id-3 div.sk-item::before, #sk-container-id-3 div.sk-parallel-item::before {content: \"\";position: absolute;border-left: 1px solid gray;box-sizing: border-box;top: 0;bottom: 0;left: 50%;z-index: -1;}#sk-container-id-3 div.sk-parallel-item {display: flex;flex-direction: column;z-index: 1;position: relative;background-color: white;}#sk-container-id-3 div.sk-parallel-item:first-child::after {align-self: flex-end;width: 50%;}#sk-container-id-3 div.sk-parallel-item:last-child::after {align-self: flex-start;width: 50%;}#sk-container-id-3 div.sk-parallel-item:only-child::after {width: 0;}#sk-container-id-3 div.sk-dashed-wrapped {border: 1px dashed gray;margin: 0 0.4em 0.5em 0.4em;box-sizing: border-box;padding-bottom: 0.4em;background-color: white;}#sk-container-id-3 div.sk-label label {font-family: monospace;font-weight: bold;display: inline-block;line-height: 1.2em;}#sk-container-id-3 div.sk-label-container {text-align: center;}#sk-container-id-3 div.sk-container {/* jupyter's `normalize.less` sets `[hidden] { display: none; }` but bootstrap.min.css set `[hidden] { display: none !important; }` so we also need the `!important` here to be able to override the default hidden behavior on the sphinx rendered scikit-learn.org. See: https://github.com/scikit-learn/scikit-learn/issues/21755 */display: inline-block !important;position: relative;}#sk-container-id-3 div.sk-text-repr-fallback {display: none;}</style><div id=\"sk-container-id-3\" class=\"sk-top-container\"><div class=\"sk-text-repr-fallback\"><pre>LogisticRegression(C=0.23357214690901212, solver=&#x27;liblinear&#x27;)</pre><b>In a Jupyter environment, please rerun this cell to show the HTML representation or trust the notebook. <br />On GitHub, the HTML representation is unable to render, please try loading this page with nbviewer.org.</b></div><div class=\"sk-container\" hidden><div class=\"sk-item\"><div class=\"sk-estimator sk-toggleable\"><input class=\"sk-toggleable__control sk-hidden--visually\" id=\"sk-estimator-id-7\" type=\"checkbox\" checked><label for=\"sk-estimator-id-7\" class=\"sk-toggleable__label sk-toggleable__label-arrow\">LogisticRegression</label><div class=\"sk-toggleable__content\"><pre>LogisticRegression(C=0.23357214690901212, solver=&#x27;liblinear&#x27;)</pre></div></div></div></div></div>"
      ],
      "text/plain": [
       "LogisticRegression(C=0.23357214690901212, solver='liblinear')"
      ]
     },
     "execution_count": 140,
     "metadata": {},
     "output_type": "execute_result"
    }
   ],
   "source": [
    "# Fit an instance of Logistic Regression:\n",
    "clf = LogisticRegression(solver='liblinear',\n",
    "                         C=0.23357214690901212)\n",
    "\n",
    "clf.fit(X_train, y_train)"
   ]
  },
  {
   "cell_type": "code",
   "execution_count": 141,
   "id": "b22a9a7f-2dca-4002-89da-0c6dd7497909",
   "metadata": {
    "tags": []
   },
   "outputs": [
    {
     "data": {
      "text/plain": [
       "array([[-2.48356169e-01,  2.74775463e-01, -7.83392669e-02,\n",
       "         2.54126450e-01, -1.24941741e-01, -4.12015451e-06,\n",
       "        -5.99881283e-05, -2.22230446e-03, -2.35443784e-03,\n",
       "         2.08687992e+00,  1.69341858e-01]])"
      ]
     },
     "execution_count": 141,
     "metadata": {},
     "output_type": "execute_result"
    }
   ],
   "source": [
    "clf.coef_"
   ]
  },
  {
   "cell_type": "code",
   "execution_count": 142,
   "id": "f932c31d-d4d2-4dde-9bf4-109c19b34c41",
   "metadata": {
    "tags": []
   },
   "outputs": [
    {
     "data": {
      "text/plain": [
       "{'Gender': -0.24835616890392267,\n",
       " 'Married': 0.2747754629546363,\n",
       " 'Dependents': -0.0783392668951352,\n",
       " 'Education': 0.25412644983023314,\n",
       " 'Self_Employed': -0.12494174113409921,\n",
       " 'ApplicantIncome': -4.120154509787291e-06,\n",
       " 'CoapplicantIncome': -5.9988128272169906e-05,\n",
       " 'LoanAmount': -0.002222304459500172,\n",
       " 'Loan_Amount_Term': -0.0023544378406653347,\n",
       " 'Credit_History': 2.0868799223350845,\n",
       " 'Property_Area': 0.16934185781740677}"
      ]
     },
     "execution_count": 142,
     "metadata": {},
     "output_type": "execute_result"
    }
   ],
   "source": [
    "# Match coef's to columns:\n",
    "feature_dict = dict(zip(df.columns, list(clf.coef_[0])))\n",
    "feature_dict"
   ]
  },
  {
   "cell_type": "code",
   "execution_count": 143,
   "id": "e7f1b556-250b-42f7-9be2-ef2e83c23eab",
   "metadata": {
    "tags": []
   },
   "outputs": [
    {
     "data": {
      "image/png": "[encoded data removed]",
      "text/plain": [
       "<Figure size 640x480 with 1 Axes>"
      ]
     },
     "metadata": {},
     "output_type": "display_data"
    }
   ],
   "source": [
    "# Plot feature importance:\n",
    "\n",
    "feature_df = pd.DataFrame(feature_dict, index=[0])\n",
    "feature_df.T.plot.bar(title=\"Feature Importance\", legend=False)\n",
    "plt.show()"
   ]
  },
  {
   "cell_type": "code",
   "execution_count": null,
   "id": "3ea5c783-f9a4-42c4-ac08-151bd44872b7",
   "metadata": {},
   "outputs": [],
   "source": []
  },
  {
   "cell_type": "markdown",
   "id": "081387a0-51de-432c-8886-bf79fb3a3c74",
   "metadata": {
    "jp-MarkdownHeadingCollapsed": true,
    "tags": []
   },
   "source": [
    "# Business Recommendations:\n",
    "\n",
    "* 1. The company should approach customers with good credit history.\n",
    "* 2. The company should approach customers who are married.\n",
    "* 3. The company should approach customers who are graduates.\n",
    "* 4. The company should approach customers who live in the semi-urban-area\n",
    "* 5. The comapny could consider approaching customers with few dependents\n",
    "* 6. The company could consider approaching married men"
   ]
  },
  {
   "cell_type": "markdown",
   "id": "ab7a654a-d39d-451d-b1f0-dd8dc187f400",
   "metadata": {
    "tags": []
   },
   "source": [
    "# Appendix: Report/ Findings\n",
    "\n",
    "* The majority of people in the dataset do have home loans.\n",
    "* The majority of dataset applicant gender is Male's who apply for home loans, at 81.36 %\n",
    "* The number of married men who applied for home loans is: 256\n",
    " \n",
    "* The distribution of `ApplicantIncome` and `CoApplicantIncome` is skewed to the left\n",
    "* ` LoanAmount` has a normal distribution and is could be skewed due to outliers.\n",
    "* `Applicant` and `CoApplicantIncome` seems to be equal for individuals who have a home loan\n",
    "\n",
    "* The majority of loans are from the `semi-urban area`, with rural property area having the least loans.\n",
    "* `Graduates have more loans` than that of individuals who are not graduates.\n",
    "\n",
    "* It seems that as the `applicant income increases, the loan amount tends to increase` as well.\n",
    "* The most popular `Loan Amount Term is 360` by far.\n",
    "* `Loan status` seems to `decrease` as `dependents increase`. The majority of Y status has 0 dependents."
   ]
  },
  {
   "cell_type": "code",
   "execution_count": null,
   "id": "d0787071-3603-48b8-838a-2303bbc0afcc",
   "metadata": {},
   "outputs": [],
   "source": []
  }
 ],
 "metadata": {
  "kernelspec": {
   "display_name": "Python 3 (ipykernel)",
   "language": "python",
   "name": "python3"
  },
  "language_info": {
   "codemirror_mode": {
    "name": "ipython",
    "version": 3
   },
   "file_extension": ".py",
   "mimetype": "text/x-python",
   "name": "python",
   "nbconvert_exporter": "python",
   "pygments_lexer": "ipython3",
   "version": "3.11.5"
  }
 },
 "nbformat": 4,
 "nbformat_minor": 5
}
